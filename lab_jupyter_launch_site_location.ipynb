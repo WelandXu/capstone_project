{
  "metadata": {
    "kernelspec": {
      "name": "python",
      "display_name": "Python (Pyodide)",
      "language": "python"
    },
    "language_info": {
      "codemirror_mode": {
        "name": "python",
        "version": 3
      },
      "file_extension": ".py",
      "mimetype": "text/x-python",
      "name": "python",
      "nbconvert_exporter": "python",
      "pygments_lexer": "ipython3",
      "version": "3.8"
    }
  },
  "nbformat_minor": 4,
  "nbformat": 4,
  "cells": [
    {
      "cell_type": "markdown",
      "source": "<p style=\"text-align:center\">\n    <a href=\"https://skills.network/?utm_medium=Exinfluencer&utm_source=Exinfluencer&utm_content=000026UJ&utm_term=10006555&utm_id=NA-SkillsNetwork-Channel-SkillsNetworkCoursesIBMDS0321ENSkillsNetwork26802033-2022-01-01\" target=\"_blank\">\n    <img src=\"https://cf-courses-data.s3.us.cloud-object-storage.appdomain.cloud/assets/logos/SN_web_lightmode.png\" width=\"200\" alt=\"Skills Network Logo\"  />\n    </a>\n</p>\n",
      "metadata": {}
    },
    {
      "cell_type": "markdown",
      "source": "# **Launch Sites Locations Analysis with Folium**\n",
      "metadata": {}
    },
    {
      "cell_type": "markdown",
      "source": "Estimated time needed: **40** minutes\n",
      "metadata": {}
    },
    {
      "cell_type": "markdown",
      "source": "The launch success rate may depend on many factors such as payload mass, orbit type, and so on. It may also depend on the location and proximities of a launch site, i.e., the initial position of rocket trajectories. Finding an optimal location for building a launch site certainly involves many factors and hopefully we could discover some of the factors by analyzing the existing launch site locations.\n",
      "metadata": {}
    },
    {
      "cell_type": "markdown",
      "source": "In the previous exploratory data analysis labs, you have visualized the SpaceX launch dataset using `matplotlib` and `seaborn` and discovered some preliminary correlations between the launch site and success rates. In this lab, you will be performing more interactive visual analytics using `Folium`.\n",
      "metadata": {}
    },
    {
      "cell_type": "markdown",
      "source": "## Objectives\n",
      "metadata": {}
    },
    {
      "cell_type": "markdown",
      "source": "This lab contains the following tasks:\n\n*   **TASK 1:** Mark all launch sites on a map\n*   **TASK 2:** Mark the success/failed launches for each site on the map\n*   **TASK 3:** Calculate the distances between a launch site to its proximities\n\nAfter completed the above tasks, you should be able to find some geographical patterns about launch sites.\n",
      "metadata": {}
    },
    {
      "cell_type": "markdown",
      "source": "Let's first import required Python packages for this lab:\n",
      "metadata": {}
    },
    {
      "cell_type": "code",
      "source": "import piplite\nawait piplite.install(['folium'])\nawait piplite.install(['pandas'])",
      "metadata": {
        "trusted": true
      },
      "outputs": [],
      "execution_count": 1
    },
    {
      "cell_type": "code",
      "source": "import folium\nimport pandas as pd",
      "metadata": {
        "trusted": true
      },
      "outputs": [],
      "execution_count": 2
    },
    {
      "cell_type": "code",
      "source": "# Import folium MarkerCluster plugin\nfrom folium.plugins import MarkerCluster\n# Import folium MousePosition plugin\nfrom folium.plugins import MousePosition\n# Import folium DivIcon plugin\nfrom folium.features import DivIcon",
      "metadata": {
        "trusted": true
      },
      "outputs": [],
      "execution_count": 3
    },
    {
      "cell_type": "markdown",
      "source": "If you need to refresh your memory about folium, you may download and refer to this previous folium lab:\n",
      "metadata": {}
    },
    {
      "cell_type": "markdown",
      "source": "[Generating Maps with Python](https://cf-courses-data.s3.us.cloud-object-storage.appdomain.cloud/IBM-DS0321EN-SkillsNetwork/labs/module\\_3/DV0101EN-3-5-1-Generating-Maps-in-Python-py-v2.0.ipynb)\n",
      "metadata": {}
    },
    {
      "cell_type": "code",
      "source": "## Task 1: Mark all launch sites on a map\n",
      "metadata": {
        "trusted": true
      },
      "outputs": [],
      "execution_count": 4
    },
    {
      "cell_type": "markdown",
      "source": "First, let's try to add each site's location on a map using site's latitude and longitude coordinates\n",
      "metadata": {}
    },
    {
      "cell_type": "markdown",
      "source": "The following dataset with the name `spacex_launch_geo.csv` is an augmented dataset with latitude and longitude added for each site.\n",
      "metadata": {}
    },
    {
      "cell_type": "code",
      "source": "# Download and read the `spacex_launch_geo.csv`\nfrom js import fetch\nimport io\n\nURL = 'https://cf-courses-data.s3.us.cloud-object-storage.appdomain.cloud/IBM-DS0321EN-SkillsNetwork/datasets/spacex_launch_geo.csv'\nresp = await fetch(URL)\nspacex_csv_file = io.BytesIO((await resp.arrayBuffer()).to_py())\nspacex_df=pd.read_csv(spacex_csv_file)",
      "metadata": {
        "trusted": true
      },
      "outputs": [],
      "execution_count": 5
    },
    {
      "cell_type": "markdown",
      "source": "Now, you can take a look at what are the coordinates for each site.\n",
      "metadata": {}
    },
    {
      "cell_type": "code",
      "source": "# Select relevant sub-columns: `Launch Site`, `Lat(Latitude)`, `Long(Longitude)`, `class`\nspacex_df = spacex_df[['Launch Site', 'Lat', 'Long', 'class']]\nlaunch_sites_df = spacex_df.groupby(['Launch Site'], as_index=False).first()\nlaunch_sites_df = launch_sites_df[['Launch Site', 'Lat', 'Long']]\nlaunch_sites_df",
      "metadata": {
        "trusted": true
      },
      "outputs": [
        {
          "execution_count": 6,
          "output_type": "execute_result",
          "data": {
            "text/plain": "    Launch Site        Lat        Long\n0   CCAFS LC-40  28.562302  -80.577356\n1  CCAFS SLC-40  28.563197  -80.576820\n2    KSC LC-39A  28.573255  -80.646895\n3   VAFB SLC-4E  34.632834 -120.610745",
            "text/html": "<div>\n<style scoped>\n    .dataframe tbody tr th:only-of-type {\n        vertical-align: middle;\n    }\n\n    .dataframe tbody tr th {\n        vertical-align: top;\n    }\n\n    .dataframe thead th {\n        text-align: right;\n    }\n</style>\n<table border=\"1\" class=\"dataframe\">\n  <thead>\n    <tr style=\"text-align: right;\">\n      <th></th>\n      <th>Launch Site</th>\n      <th>Lat</th>\n      <th>Long</th>\n    </tr>\n  </thead>\n  <tbody>\n    <tr>\n      <th>0</th>\n      <td>CCAFS LC-40</td>\n      <td>28.562302</td>\n      <td>-80.577356</td>\n    </tr>\n    <tr>\n      <th>1</th>\n      <td>CCAFS SLC-40</td>\n      <td>28.563197</td>\n      <td>-80.576820</td>\n    </tr>\n    <tr>\n      <th>2</th>\n      <td>KSC LC-39A</td>\n      <td>28.573255</td>\n      <td>-80.646895</td>\n    </tr>\n    <tr>\n      <th>3</th>\n      <td>VAFB SLC-4E</td>\n      <td>34.632834</td>\n      <td>-120.610745</td>\n    </tr>\n  </tbody>\n</table>\n</div>"
          },
          "metadata": {}
        }
      ],
      "execution_count": 6
    },
    {
      "cell_type": "markdown",
      "source": "Above coordinates are just plain numbers that can not give you any intuitive insights about where are those launch sites. If you are very good at geography, you can interpret those numbers directly in your mind. If not, that's fine too. Let's visualize those locations by pinning them on a map.\n",
      "metadata": {}
    },
    {
      "cell_type": "markdown",
      "source": "We first need to create a folium `Map` object, with an initial center location to be NASA Johnson Space Center at Houston, Texas.\n",
      "metadata": {}
    },
    {
      "cell_type": "code",
      "source": "# Start location is NASA Johnson Space Center\nnasa_coordinate = [29.559684888503615, -95.0830971930759]\nsite_map = folium.Map(location=nasa_coordinate, zoom_start=10)",
      "metadata": {
        "trusted": true
      },
      "outputs": [],
      "execution_count": 7
    },
    {
      "cell_type": "markdown",
      "source": "We could use `folium.Circle` to add a highlighted circle area with a text label on a specific coordinate. For example,\n",
      "metadata": {}
    },
    {
      "cell_type": "code",
      "source": "# Create a blue circle at NASA Johnson Space Center's coordinate with a popup label showing its name\ncircle = folium.Circle(nasa_coordinate, radius=1000, color='#d35400', fill=True).add_child(folium.Popup('NASA Johnson Space Center'))\n# Create a blue circle at NASA Johnson Space Center's coordinate with a icon showing its name\nmarker = folium.map.Marker(\n    nasa_coordinate,\n    # Create an icon as a text label\n    icon=DivIcon(\n        icon_size=(20,20),\n        icon_anchor=(0,0),\n        html='<div style=\"font-size: 12; color:#d35400;\"><b>%s</b></div>' % 'NASA JSC',\n        )\n    )\nsite_map.add_child(circle)\nsite_map.add_child(marker)",
      "metadata": {
        "trusted": true,
        "scrolled": true
      },
      "outputs": [
        {
          "execution_count": 8,
          "output_type": "execute_result",
          "data": {
            "text/plain": "<folium.folium.Map at 0x14865d8>",
            "text/html": "<div style=\"width:100%;\"><div style=\"position:relative;width:100%;height:0;padding-bottom:60%;\"><span style=\"color:#565656\">Make this Notebook Trusted to load map: File -> Trust Notebook</span><iframe srcdoc=\"&lt;!DOCTYPE html&gt;\n&lt;html&gt;\n&lt;head&gt;\n    \n    &lt;meta http-equiv=&quot;content-type&quot; content=&quot;text/html; charset=UTF-8&quot; /&gt;\n    \n        &lt;script&gt;\n            L_NO_TOUCH = false;\n            L_DISABLE_3D = false;\n        &lt;/script&gt;\n    \n    &lt;style&gt;html, body {width: 100%;height: 100%;margin: 0;padding: 0;}&lt;/style&gt;\n    &lt;style&gt;#map {position:absolute;top:0;bottom:0;right:0;left:0;}&lt;/style&gt;\n    &lt;script src=&quot;https://cdn.jsdelivr.net/npm/leaflet@1.9.3/dist/leaflet.js&quot;&gt;&lt;/script&gt;\n    &lt;script src=&quot;https://code.jquery.com/jquery-3.7.1.min.js&quot;&gt;&lt;/script&gt;\n    &lt;script src=&quot;https://cdn.jsdelivr.net/npm/bootstrap@5.2.2/dist/js/bootstrap.bundle.min.js&quot;&gt;&lt;/script&gt;\n    &lt;script src=&quot;https://cdnjs.cloudflare.com/ajax/libs/Leaflet.awesome-markers/2.0.2/leaflet.awesome-markers.js&quot;&gt;&lt;/script&gt;\n    &lt;link rel=&quot;stylesheet&quot; href=&quot;https://cdn.jsdelivr.net/npm/leaflet@1.9.3/dist/leaflet.css&quot;/&gt;\n    &lt;link rel=&quot;stylesheet&quot; href=&quot;https://cdn.jsdelivr.net/npm/bootstrap@5.2.2/dist/css/bootstrap.min.css&quot;/&gt;\n    &lt;link rel=&quot;stylesheet&quot; href=&quot;https://netdna.bootstrapcdn.com/bootstrap/3.0.0/css/bootstrap.min.css&quot;/&gt;\n    &lt;link rel=&quot;stylesheet&quot; href=&quot;https://cdn.jsdelivr.net/npm/@fortawesome/fontawesome-free@6.2.0/css/all.min.css&quot;/&gt;\n    &lt;link rel=&quot;stylesheet&quot; href=&quot;https://cdnjs.cloudflare.com/ajax/libs/Leaflet.awesome-markers/2.0.2/leaflet.awesome-markers.css&quot;/&gt;\n    &lt;link rel=&quot;stylesheet&quot; href=&quot;https://cdn.jsdelivr.net/gh/python-visualization/folium/folium/templates/leaflet.awesome.rotate.min.css&quot;/&gt;\n    \n            &lt;meta name=&quot;viewport&quot; content=&quot;width=device-width,\n                initial-scale=1.0, maximum-scale=1.0, user-scalable=no&quot; /&gt;\n            &lt;style&gt;\n                #map_a6506a0819188af54381362957e18fd8 {\n                    position: relative;\n                    width: 100.0%;\n                    height: 100.0%;\n                    left: 0.0%;\n                    top: 0.0%;\n                }\n                .leaflet-container { font-size: 1rem; }\n            &lt;/style&gt;\n        \n&lt;/head&gt;\n&lt;body&gt;\n    \n    \n            &lt;div class=&quot;folium-map&quot; id=&quot;map_a6506a0819188af54381362957e18fd8&quot; &gt;&lt;/div&gt;\n        \n&lt;/body&gt;\n&lt;script&gt;\n    \n    \n            var map_a6506a0819188af54381362957e18fd8 = L.map(\n                &quot;map_a6506a0819188af54381362957e18fd8&quot;,\n                {\n                    center: [29.559684888503615, -95.0830971930759],\n                    crs: L.CRS.EPSG3857,\n                    zoom: 10,\n                    zoomControl: true,\n                    preferCanvas: false,\n                }\n            );\n\n            \n\n        \n    \n            var tile_layer_3f3b95049fe19510d55adb238903dd44 = L.tileLayer(\n                &quot;https://tile.openstreetmap.org/{z}/{x}/{y}.png&quot;,\n                {&quot;attribution&quot;: &quot;\\u0026copy; \\u003ca href=\\&quot;https://www.openstreetmap.org/copyright\\&quot;\\u003eOpenStreetMap\\u003c/a\\u003e contributors&quot;, &quot;detectRetina&quot;: false, &quot;maxNativeZoom&quot;: 19, &quot;maxZoom&quot;: 19, &quot;minZoom&quot;: 0, &quot;noWrap&quot;: false, &quot;opacity&quot;: 1, &quot;subdomains&quot;: &quot;abc&quot;, &quot;tms&quot;: false}\n            );\n        \n    \n            tile_layer_3f3b95049fe19510d55adb238903dd44.addTo(map_a6506a0819188af54381362957e18fd8);\n        \n    \n            var circle_a336e658f6ff434203cd6577e952c141 = L.circle(\n                [29.559684888503615, -95.0830971930759],\n                {&quot;bubblingMouseEvents&quot;: true, &quot;color&quot;: &quot;#d35400&quot;, &quot;dashArray&quot;: null, &quot;dashOffset&quot;: null, &quot;fill&quot;: true, &quot;fillColor&quot;: &quot;#d35400&quot;, &quot;fillOpacity&quot;: 0.2, &quot;fillRule&quot;: &quot;evenodd&quot;, &quot;lineCap&quot;: &quot;round&quot;, &quot;lineJoin&quot;: &quot;round&quot;, &quot;opacity&quot;: 1.0, &quot;radius&quot;: 1000, &quot;stroke&quot;: true, &quot;weight&quot;: 3}\n            ).addTo(map_a6506a0819188af54381362957e18fd8);\n        \n    \n        var popup_fa9f56d8b8876726e260e3328697093a = L.popup({&quot;maxWidth&quot;: &quot;100%&quot;});\n\n        \n            \n                var html_b4648af3b6eeaf491220c9e461540f51 = $(`&lt;div id=&quot;html_b4648af3b6eeaf491220c9e461540f51&quot; style=&quot;width: 100.0%; height: 100.0%;&quot;&gt;NASA Johnson Space Center&lt;/div&gt;`)[0];\n                popup_fa9f56d8b8876726e260e3328697093a.setContent(html_b4648af3b6eeaf491220c9e461540f51);\n            \n        \n\n        circle_a336e658f6ff434203cd6577e952c141.bindPopup(popup_fa9f56d8b8876726e260e3328697093a)\n        ;\n\n        \n    \n    \n            var marker_787dcbb99dcd25ea404175a8ce33c30e = L.marker(\n                [29.559684888503615, -95.0830971930759],\n                {}\n            ).addTo(map_a6506a0819188af54381362957e18fd8);\n        \n    \n            var div_icon_6d721840c9b9bca53c58e80660a358ac = L.divIcon({&quot;className&quot;: &quot;empty&quot;, &quot;html&quot;: &quot;\\u003cdiv style=\\&quot;font-size: 12; color:#d35400;\\&quot;\\u003e\\u003cb\\u003eNASA JSC\\u003c/b\\u003e\\u003c/div\\u003e&quot;, &quot;iconAnchor&quot;: [0, 0], &quot;iconSize&quot;: [20, 20]});\n            marker_787dcbb99dcd25ea404175a8ce33c30e.setIcon(div_icon_6d721840c9b9bca53c58e80660a358ac);\n        \n&lt;/script&gt;\n&lt;/html&gt;\" style=\"position:absolute;width:100%;height:100%;left:0;top:0;border:none !important;\" allowfullscreen webkitallowfullscreen mozallowfullscreen></iframe></div></div>"
          },
          "metadata": {}
        }
      ],
      "execution_count": 8
    },
    {
      "cell_type": "markdown",
      "source": "and you should find a small yellow circle near the city of Houston and you can zoom-in to see a larger circle.\n",
      "metadata": {}
    },
    {
      "cell_type": "markdown",
      "source": "Now, let's add a circle for each launch site in data frame `launch_sites`\n",
      "metadata": {}
    },
    {
      "cell_type": "markdown",
      "source": "*TODO:*  Create and add `folium.Circle` and `folium.Marker` for each launch site on the site map\n",
      "metadata": {}
    },
    {
      "cell_type": "markdown",
      "source": "An example of folium.Circle:\n",
      "metadata": {}
    },
    {
      "cell_type": "markdown",
      "source": "`folium.Circle(coordinate, radius=1000, color='#000000', fill=True).add_child(folium.Popup(...))`\n",
      "metadata": {}
    },
    {
      "cell_type": "markdown",
      "source": "An example of folium.Marker:\n",
      "metadata": {}
    },
    {
      "cell_type": "markdown",
      "source": "`folium.map.Marker(coordinate, icon=DivIcon(icon_size=(20,20),icon_anchor=(0,0), html='<div style=\"font-size: 12; color:#d35400;\"><b>%s</b></div>' % 'label', ))`\n",
      "metadata": {}
    },
    {
      "cell_type": "code",
      "source": "# Initial the map\nsite_map = folium.Map(location=nasa_coordinate, zoom_start=5)\n# For each launch site, add a Circle object based on its coordinate (Lat, Long) values. In addition, add Launch site name as a popup label\nlaunch_sites_df_2 = launch_sites_df.set_index('Launch Site')\nfor launchsite in launch_sites_df['Launch Site']:\n    coordinate=[launch_sites_df_2.loc[launchsite,'Lat'],launch_sites_df_2.loc[launchsite,'Long']]\n    circle = folium.Circle(coordinate, radius=1000, color='#d35400', fill=True).add_child(folium.Popup(launchsite))\n    marker = folium.map.Marker(\n        coordinate,\n        # Create an icon as a text label\n        icon=DivIcon(\n            icon_size=(20,20),\n            icon_anchor=(0,0),\n            html='<div style=\"font-size: 12; color:#d35400;\"><b>%s</b></div>' % launchsite,\n            )\n        )\n    site_map.add_child(circle)\n    site_map.add_child(marker)\nsite_map",
      "metadata": {
        "trusted": true
      },
      "outputs": [
        {
          "execution_count": 9,
          "output_type": "execute_result",
          "data": {
            "text/plain": "<folium.folium.Map at 0x5db6fc8>",
            "text/html": "<div style=\"width:100%;\"><div style=\"position:relative;width:100%;height:0;padding-bottom:60%;\"><span style=\"color:#565656\">Make this Notebook Trusted to load map: File -> Trust Notebook</span><iframe srcdoc=\"&lt;!DOCTYPE html&gt;\n&lt;html&gt;\n&lt;head&gt;\n    \n    &lt;meta http-equiv=&quot;content-type&quot; content=&quot;text/html; charset=UTF-8&quot; /&gt;\n    \n        &lt;script&gt;\n            L_NO_TOUCH = false;\n            L_DISABLE_3D = false;\n        &lt;/script&gt;\n    \n    &lt;style&gt;html, body {width: 100%;height: 100%;margin: 0;padding: 0;}&lt;/style&gt;\n    &lt;style&gt;#map {position:absolute;top:0;bottom:0;right:0;left:0;}&lt;/style&gt;\n    &lt;script src=&quot;https://cdn.jsdelivr.net/npm/leaflet@1.9.3/dist/leaflet.js&quot;&gt;&lt;/script&gt;\n    &lt;script src=&quot;https://code.jquery.com/jquery-3.7.1.min.js&quot;&gt;&lt;/script&gt;\n    &lt;script src=&quot;https://cdn.jsdelivr.net/npm/bootstrap@5.2.2/dist/js/bootstrap.bundle.min.js&quot;&gt;&lt;/script&gt;\n    &lt;script src=&quot;https://cdnjs.cloudflare.com/ajax/libs/Leaflet.awesome-markers/2.0.2/leaflet.awesome-markers.js&quot;&gt;&lt;/script&gt;\n    &lt;link rel=&quot;stylesheet&quot; href=&quot;https://cdn.jsdelivr.net/npm/leaflet@1.9.3/dist/leaflet.css&quot;/&gt;\n    &lt;link rel=&quot;stylesheet&quot; href=&quot;https://cdn.jsdelivr.net/npm/bootstrap@5.2.2/dist/css/bootstrap.min.css&quot;/&gt;\n    &lt;link rel=&quot;stylesheet&quot; href=&quot;https://netdna.bootstrapcdn.com/bootstrap/3.0.0/css/bootstrap.min.css&quot;/&gt;\n    &lt;link rel=&quot;stylesheet&quot; href=&quot;https://cdn.jsdelivr.net/npm/@fortawesome/fontawesome-free@6.2.0/css/all.min.css&quot;/&gt;\n    &lt;link rel=&quot;stylesheet&quot; href=&quot;https://cdnjs.cloudflare.com/ajax/libs/Leaflet.awesome-markers/2.0.2/leaflet.awesome-markers.css&quot;/&gt;\n    &lt;link rel=&quot;stylesheet&quot; href=&quot;https://cdn.jsdelivr.net/gh/python-visualization/folium/folium/templates/leaflet.awesome.rotate.min.css&quot;/&gt;\n    \n            &lt;meta name=&quot;viewport&quot; content=&quot;width=device-width,\n                initial-scale=1.0, maximum-scale=1.0, user-scalable=no&quot; /&gt;\n            &lt;style&gt;\n                #map_67ea3220ebc9667d858c04a5e4775f5c {\n                    position: relative;\n                    width: 100.0%;\n                    height: 100.0%;\n                    left: 0.0%;\n                    top: 0.0%;\n                }\n                .leaflet-container { font-size: 1rem; }\n            &lt;/style&gt;\n        \n&lt;/head&gt;\n&lt;body&gt;\n    \n    \n            &lt;div class=&quot;folium-map&quot; id=&quot;map_67ea3220ebc9667d858c04a5e4775f5c&quot; &gt;&lt;/div&gt;\n        \n&lt;/body&gt;\n&lt;script&gt;\n    \n    \n            var map_67ea3220ebc9667d858c04a5e4775f5c = L.map(\n                &quot;map_67ea3220ebc9667d858c04a5e4775f5c&quot;,\n                {\n                    center: [29.559684888503615, -95.0830971930759],\n                    crs: L.CRS.EPSG3857,\n                    zoom: 5,\n                    zoomControl: true,\n                    preferCanvas: false,\n                }\n            );\n\n            \n\n        \n    \n            var tile_layer_79e3b1912ca2245263a403e34ac6e53d = L.tileLayer(\n                &quot;https://tile.openstreetmap.org/{z}/{x}/{y}.png&quot;,\n                {&quot;attribution&quot;: &quot;\\u0026copy; \\u003ca href=\\&quot;https://www.openstreetmap.org/copyright\\&quot;\\u003eOpenStreetMap\\u003c/a\\u003e contributors&quot;, &quot;detectRetina&quot;: false, &quot;maxNativeZoom&quot;: 19, &quot;maxZoom&quot;: 19, &quot;minZoom&quot;: 0, &quot;noWrap&quot;: false, &quot;opacity&quot;: 1, &quot;subdomains&quot;: &quot;abc&quot;, &quot;tms&quot;: false}\n            );\n        \n    \n            tile_layer_79e3b1912ca2245263a403e34ac6e53d.addTo(map_67ea3220ebc9667d858c04a5e4775f5c);\n        \n    \n            var circle_8d5fe4447f866f94be590db4e27e7478 = L.circle(\n                [28.56230197, -80.57735648],\n                {&quot;bubblingMouseEvents&quot;: true, &quot;color&quot;: &quot;#d35400&quot;, &quot;dashArray&quot;: null, &quot;dashOffset&quot;: null, &quot;fill&quot;: true, &quot;fillColor&quot;: &quot;#d35400&quot;, &quot;fillOpacity&quot;: 0.2, &quot;fillRule&quot;: &quot;evenodd&quot;, &quot;lineCap&quot;: &quot;round&quot;, &quot;lineJoin&quot;: &quot;round&quot;, &quot;opacity&quot;: 1.0, &quot;radius&quot;: 1000, &quot;stroke&quot;: true, &quot;weight&quot;: 3}\n            ).addTo(map_67ea3220ebc9667d858c04a5e4775f5c);\n        \n    \n        var popup_cedc68cf2498c88f0a3ec846f20bfd27 = L.popup({&quot;maxWidth&quot;: &quot;100%&quot;});\n\n        \n            \n                var html_8b41dbac6024b0621c4167326d01a6eb = $(`&lt;div id=&quot;html_8b41dbac6024b0621c4167326d01a6eb&quot; style=&quot;width: 100.0%; height: 100.0%;&quot;&gt;CCAFS LC-40&lt;/div&gt;`)[0];\n                popup_cedc68cf2498c88f0a3ec846f20bfd27.setContent(html_8b41dbac6024b0621c4167326d01a6eb);\n            \n        \n\n        circle_8d5fe4447f866f94be590db4e27e7478.bindPopup(popup_cedc68cf2498c88f0a3ec846f20bfd27)\n        ;\n\n        \n    \n    \n            var marker_226c3798e6fcd421f3a0ed7e46305500 = L.marker(\n                [28.56230197, -80.57735648],\n                {}\n            ).addTo(map_67ea3220ebc9667d858c04a5e4775f5c);\n        \n    \n            var div_icon_5b198fc03b366aef53333917830edb83 = L.divIcon({&quot;className&quot;: &quot;empty&quot;, &quot;html&quot;: &quot;\\u003cdiv style=\\&quot;font-size: 12; color:#d35400;\\&quot;\\u003e\\u003cb\\u003eCCAFS LC-40\\u003c/b\\u003e\\u003c/div\\u003e&quot;, &quot;iconAnchor&quot;: [0, 0], &quot;iconSize&quot;: [20, 20]});\n            marker_226c3798e6fcd421f3a0ed7e46305500.setIcon(div_icon_5b198fc03b366aef53333917830edb83);\n        \n    \n            var circle_49a9ded20cebabd7a8754298fa7a36a3 = L.circle(\n                [28.56319718, -80.57682003],\n                {&quot;bubblingMouseEvents&quot;: true, &quot;color&quot;: &quot;#d35400&quot;, &quot;dashArray&quot;: null, &quot;dashOffset&quot;: null, &quot;fill&quot;: true, &quot;fillColor&quot;: &quot;#d35400&quot;, &quot;fillOpacity&quot;: 0.2, &quot;fillRule&quot;: &quot;evenodd&quot;, &quot;lineCap&quot;: &quot;round&quot;, &quot;lineJoin&quot;: &quot;round&quot;, &quot;opacity&quot;: 1.0, &quot;radius&quot;: 1000, &quot;stroke&quot;: true, &quot;weight&quot;: 3}\n            ).addTo(map_67ea3220ebc9667d858c04a5e4775f5c);\n        \n    \n        var popup_4c6d55550a9e564854cc5f3f03e8f2fd = L.popup({&quot;maxWidth&quot;: &quot;100%&quot;});\n\n        \n            \n                var html_841eaaba1c254ca4dd1e7e04625eec50 = $(`&lt;div id=&quot;html_841eaaba1c254ca4dd1e7e04625eec50&quot; style=&quot;width: 100.0%; height: 100.0%;&quot;&gt;CCAFS SLC-40&lt;/div&gt;`)[0];\n                popup_4c6d55550a9e564854cc5f3f03e8f2fd.setContent(html_841eaaba1c254ca4dd1e7e04625eec50);\n            \n        \n\n        circle_49a9ded20cebabd7a8754298fa7a36a3.bindPopup(popup_4c6d55550a9e564854cc5f3f03e8f2fd)\n        ;\n\n        \n    \n    \n            var marker_bcb1b313cb525180dc6383728026d6b2 = L.marker(\n                [28.56319718, -80.57682003],\n                {}\n            ).addTo(map_67ea3220ebc9667d858c04a5e4775f5c);\n        \n    \n            var div_icon_e4bce20bfc3082f3d02bcc0395c3601c = L.divIcon({&quot;className&quot;: &quot;empty&quot;, &quot;html&quot;: &quot;\\u003cdiv style=\\&quot;font-size: 12; color:#d35400;\\&quot;\\u003e\\u003cb\\u003eCCAFS SLC-40\\u003c/b\\u003e\\u003c/div\\u003e&quot;, &quot;iconAnchor&quot;: [0, 0], &quot;iconSize&quot;: [20, 20]});\n            marker_bcb1b313cb525180dc6383728026d6b2.setIcon(div_icon_e4bce20bfc3082f3d02bcc0395c3601c);\n        \n    \n            var circle_923860a9e41fa9ee2696f8897733920c = L.circle(\n                [28.57325457, -80.64689529],\n                {&quot;bubblingMouseEvents&quot;: true, &quot;color&quot;: &quot;#d35400&quot;, &quot;dashArray&quot;: null, &quot;dashOffset&quot;: null, &quot;fill&quot;: true, &quot;fillColor&quot;: &quot;#d35400&quot;, &quot;fillOpacity&quot;: 0.2, &quot;fillRule&quot;: &quot;evenodd&quot;, &quot;lineCap&quot;: &quot;round&quot;, &quot;lineJoin&quot;: &quot;round&quot;, &quot;opacity&quot;: 1.0, &quot;radius&quot;: 1000, &quot;stroke&quot;: true, &quot;weight&quot;: 3}\n            ).addTo(map_67ea3220ebc9667d858c04a5e4775f5c);\n        \n    \n        var popup_be18664f6711d55e7ba02ad419735cb6 = L.popup({&quot;maxWidth&quot;: &quot;100%&quot;});\n\n        \n            \n                var html_e61aabd2d58f1c09689daaf9dfce9e87 = $(`&lt;div id=&quot;html_e61aabd2d58f1c09689daaf9dfce9e87&quot; style=&quot;width: 100.0%; height: 100.0%;&quot;&gt;KSC LC-39A&lt;/div&gt;`)[0];\n                popup_be18664f6711d55e7ba02ad419735cb6.setContent(html_e61aabd2d58f1c09689daaf9dfce9e87);\n            \n        \n\n        circle_923860a9e41fa9ee2696f8897733920c.bindPopup(popup_be18664f6711d55e7ba02ad419735cb6)\n        ;\n\n        \n    \n    \n            var marker_e517a6df68129575c20f0489f1e9eff2 = L.marker(\n                [28.57325457, -80.64689529],\n                {}\n            ).addTo(map_67ea3220ebc9667d858c04a5e4775f5c);\n        \n    \n            var div_icon_116b64e25cea31be691cc84e56e3b060 = L.divIcon({&quot;className&quot;: &quot;empty&quot;, &quot;html&quot;: &quot;\\u003cdiv style=\\&quot;font-size: 12; color:#d35400;\\&quot;\\u003e\\u003cb\\u003eKSC LC-39A\\u003c/b\\u003e\\u003c/div\\u003e&quot;, &quot;iconAnchor&quot;: [0, 0], &quot;iconSize&quot;: [20, 20]});\n            marker_e517a6df68129575c20f0489f1e9eff2.setIcon(div_icon_116b64e25cea31be691cc84e56e3b060);\n        \n    \n            var circle_bdaf1dea184c3d5a1fa32d02816a08a6 = L.circle(\n                [34.63283416, -120.6107455],\n                {&quot;bubblingMouseEvents&quot;: true, &quot;color&quot;: &quot;#d35400&quot;, &quot;dashArray&quot;: null, &quot;dashOffset&quot;: null, &quot;fill&quot;: true, &quot;fillColor&quot;: &quot;#d35400&quot;, &quot;fillOpacity&quot;: 0.2, &quot;fillRule&quot;: &quot;evenodd&quot;, &quot;lineCap&quot;: &quot;round&quot;, &quot;lineJoin&quot;: &quot;round&quot;, &quot;opacity&quot;: 1.0, &quot;radius&quot;: 1000, &quot;stroke&quot;: true, &quot;weight&quot;: 3}\n            ).addTo(map_67ea3220ebc9667d858c04a5e4775f5c);\n        \n    \n        var popup_614991ec3cb2d22ac965509845b15828 = L.popup({&quot;maxWidth&quot;: &quot;100%&quot;});\n\n        \n            \n                var html_86d754981444ff45081a60ab79b2daf3 = $(`&lt;div id=&quot;html_86d754981444ff45081a60ab79b2daf3&quot; style=&quot;width: 100.0%; height: 100.0%;&quot;&gt;VAFB SLC-4E&lt;/div&gt;`)[0];\n                popup_614991ec3cb2d22ac965509845b15828.setContent(html_86d754981444ff45081a60ab79b2daf3);\n            \n        \n\n        circle_bdaf1dea184c3d5a1fa32d02816a08a6.bindPopup(popup_614991ec3cb2d22ac965509845b15828)\n        ;\n\n        \n    \n    \n            var marker_6d41f5e56d9ee8220868d661c109333f = L.marker(\n                [34.63283416, -120.6107455],\n                {}\n            ).addTo(map_67ea3220ebc9667d858c04a5e4775f5c);\n        \n    \n            var div_icon_79bf96c417448f1dd0d2388187d35cf8 = L.divIcon({&quot;className&quot;: &quot;empty&quot;, &quot;html&quot;: &quot;\\u003cdiv style=\\&quot;font-size: 12; color:#d35400;\\&quot;\\u003e\\u003cb\\u003eVAFB SLC-4E\\u003c/b\\u003e\\u003c/div\\u003e&quot;, &quot;iconAnchor&quot;: [0, 0], &quot;iconSize&quot;: [20, 20]});\n            marker_6d41f5e56d9ee8220868d661c109333f.setIcon(div_icon_79bf96c417448f1dd0d2388187d35cf8);\n        \n&lt;/script&gt;\n&lt;/html&gt;\" style=\"position:absolute;width:100%;height:100%;left:0;top:0;border:none !important;\" allowfullscreen webkitallowfullscreen mozallowfullscreen></iframe></div></div>"
          },
          "metadata": {}
        }
      ],
      "execution_count": 9
    },
    {
      "cell_type": "markdown",
      "source": "The generated map with marked launch sites should look similar to the following:\n",
      "metadata": {}
    },
    {
      "cell_type": "markdown",
      "source": "<center>\n    <img src=\"https://cf-courses-data.s3.us.cloud-object-storage.appdomain.cloud/IBM-DS0321EN-SkillsNetwork/labs/module_3/images/launch_site_markers.png\">\n</center>\n",
      "metadata": {}
    },
    {
      "cell_type": "markdown",
      "source": "Now, you can explore the map by zoom-in/out the marked areas\n, and try to answer the following questions:\n\n*   Are all launch sites in proximity to the Equator line?\n*   Are all launch sites in very close proximity to the coast?\n\nAlso please try to explain your findings.\n",
      "metadata": {}
    },
    {
      "cell_type": "code",
      "source": "# Task 2: Mark the success/failed launches for each site on the map\n",
      "metadata": {
        "trusted": true
      },
      "outputs": [],
      "execution_count": 10
    },
    {
      "cell_type": "markdown",
      "source": "Next, let's try to enhance the map by adding the launch outcomes for each site, and see which sites have high success rates.\nRecall that data frame spacex_df has detailed launch records, and the `class` column indicates if this launch was successful or not\n",
      "metadata": {}
    },
    {
      "cell_type": "code",
      "source": "spacex_df.tail(10)",
      "metadata": {
        "trusted": true
      },
      "outputs": [
        {
          "execution_count": 11,
          "output_type": "execute_result",
          "data": {
            "text/plain": "     Launch Site        Lat       Long  class\n46    KSC LC-39A  28.573255 -80.646895      1\n47    KSC LC-39A  28.573255 -80.646895      1\n48    KSC LC-39A  28.573255 -80.646895      1\n49  CCAFS SLC-40  28.563197 -80.576820      1\n50  CCAFS SLC-40  28.563197 -80.576820      1\n51  CCAFS SLC-40  28.563197 -80.576820      0\n52  CCAFS SLC-40  28.563197 -80.576820      0\n53  CCAFS SLC-40  28.563197 -80.576820      0\n54  CCAFS SLC-40  28.563197 -80.576820      1\n55  CCAFS SLC-40  28.563197 -80.576820      0",
            "text/html": "<div>\n<style scoped>\n    .dataframe tbody tr th:only-of-type {\n        vertical-align: middle;\n    }\n\n    .dataframe tbody tr th {\n        vertical-align: top;\n    }\n\n    .dataframe thead th {\n        text-align: right;\n    }\n</style>\n<table border=\"1\" class=\"dataframe\">\n  <thead>\n    <tr style=\"text-align: right;\">\n      <th></th>\n      <th>Launch Site</th>\n      <th>Lat</th>\n      <th>Long</th>\n      <th>class</th>\n    </tr>\n  </thead>\n  <tbody>\n    <tr>\n      <th>46</th>\n      <td>KSC LC-39A</td>\n      <td>28.573255</td>\n      <td>-80.646895</td>\n      <td>1</td>\n    </tr>\n    <tr>\n      <th>47</th>\n      <td>KSC LC-39A</td>\n      <td>28.573255</td>\n      <td>-80.646895</td>\n      <td>1</td>\n    </tr>\n    <tr>\n      <th>48</th>\n      <td>KSC LC-39A</td>\n      <td>28.573255</td>\n      <td>-80.646895</td>\n      <td>1</td>\n    </tr>\n    <tr>\n      <th>49</th>\n      <td>CCAFS SLC-40</td>\n      <td>28.563197</td>\n      <td>-80.576820</td>\n      <td>1</td>\n    </tr>\n    <tr>\n      <th>50</th>\n      <td>CCAFS SLC-40</td>\n      <td>28.563197</td>\n      <td>-80.576820</td>\n      <td>1</td>\n    </tr>\n    <tr>\n      <th>51</th>\n      <td>CCAFS SLC-40</td>\n      <td>28.563197</td>\n      <td>-80.576820</td>\n      <td>0</td>\n    </tr>\n    <tr>\n      <th>52</th>\n      <td>CCAFS SLC-40</td>\n      <td>28.563197</td>\n      <td>-80.576820</td>\n      <td>0</td>\n    </tr>\n    <tr>\n      <th>53</th>\n      <td>CCAFS SLC-40</td>\n      <td>28.563197</td>\n      <td>-80.576820</td>\n      <td>0</td>\n    </tr>\n    <tr>\n      <th>54</th>\n      <td>CCAFS SLC-40</td>\n      <td>28.563197</td>\n      <td>-80.576820</td>\n      <td>1</td>\n    </tr>\n    <tr>\n      <th>55</th>\n      <td>CCAFS SLC-40</td>\n      <td>28.563197</td>\n      <td>-80.576820</td>\n      <td>0</td>\n    </tr>\n  </tbody>\n</table>\n</div>"
          },
          "metadata": {}
        }
      ],
      "execution_count": 11
    },
    {
      "cell_type": "markdown",
      "source": "Next, let's create markers for all launch records.\nIf a launch was successful `(class=1)`, then we use a green marker and if a launch was failed, we use a red marker `(class=0)`\n",
      "metadata": {}
    },
    {
      "cell_type": "markdown",
      "source": "Note that a launch only happens in one of the four launch sites, which means many launch records will have the exact same coordinate. Marker clusters can be a good way to simplify a map containing many markers having the same coordinate.\n",
      "metadata": {}
    },
    {
      "cell_type": "markdown",
      "source": "Let's first create a `MarkerCluster` object\n",
      "metadata": {}
    },
    {
      "cell_type": "code",
      "source": "marker_cluster = MarkerCluster()\n",
      "metadata": {
        "trusted": true
      },
      "outputs": [],
      "execution_count": 12
    },
    {
      "cell_type": "markdown",
      "source": "*TODO:* Create a new column in `launch_sites` dataframe called `marker_color` to store the marker colors based on the `class` value\n",
      "metadata": {}
    },
    {
      "cell_type": "code",
      "source": "\n# Apply a function to check the value of `class` column\n# If class=1, marker_color value will be green\n# If class=0, marker_color value will be red\n\nmarker_color = ['green' if i==1 else 'red' for i in spacex_df['class']]\nspacex_df['marker_color'] = marker_color",
      "metadata": {
        "trusted": true
      },
      "outputs": [],
      "execution_count": 13
    },
    {
      "cell_type": "markdown",
      "source": "*TODO:* For each launch result in `spacex_df` data frame, add a `folium.Marker` to `marker_cluster`\n",
      "metadata": {}
    },
    {
      "cell_type": "code",
      "source": "# Add marker_cluster to current site_map\nsite_map.add_child(marker_cluster)\n\n# for each row in spacex_df data frame\n# create a Marker object with its coordinate\n# and customize the Marker's icon property to indicate if this launch was successed or failed, \n# e.g., icon=folium.Icon(color='white', icon_color=row['marker_color']\nfor index, record in spacex_df.iterrows():\n    # TODO: Create and add a Marker cluster to the site map\n    marker = folium.map.Marker(\n        [record['Lat'], record['Long']],\n        # Create an icon as a text label\n        icon=folium.Icon(color='white', icon_color=record['marker_color'])\n    )\n    marker_cluster.add_child(marker)\n\nsite_map",
      "metadata": {
        "trusted": true
      },
      "outputs": [
        {
          "execution_count": 14,
          "output_type": "execute_result",
          "data": {
            "text/plain": "<folium.folium.Map at 0x5db6fc8>",
            "text/html": "<div style=\"width:100%;\"><div style=\"position:relative;width:100%;height:0;padding-bottom:60%;\"><span style=\"color:#565656\">Make this Notebook Trusted to load map: File -> Trust Notebook</span><iframe srcdoc=\"&lt;!DOCTYPE html&gt;\n&lt;html&gt;\n&lt;head&gt;\n    \n    &lt;meta http-equiv=&quot;content-type&quot; content=&quot;text/html; charset=UTF-8&quot; /&gt;\n    \n        &lt;script&gt;\n            L_NO_TOUCH = false;\n            L_DISABLE_3D = false;\n        &lt;/script&gt;\n    \n    &lt;style&gt;html, body {width: 100%;height: 100%;margin: 0;padding: 0;}&lt;/style&gt;\n    &lt;style&gt;#map {position:absolute;top:0;bottom:0;right:0;left:0;}&lt;/style&gt;\n    &lt;script src=&quot;https://cdn.jsdelivr.net/npm/leaflet@1.9.3/dist/leaflet.js&quot;&gt;&lt;/script&gt;\n    &lt;script src=&quot;https://code.jquery.com/jquery-3.7.1.min.js&quot;&gt;&lt;/script&gt;\n    &lt;script src=&quot;https://cdn.jsdelivr.net/npm/bootstrap@5.2.2/dist/js/bootstrap.bundle.min.js&quot;&gt;&lt;/script&gt;\n    &lt;script src=&quot;https://cdnjs.cloudflare.com/ajax/libs/Leaflet.awesome-markers/2.0.2/leaflet.awesome-markers.js&quot;&gt;&lt;/script&gt;\n    &lt;link rel=&quot;stylesheet&quot; href=&quot;https://cdn.jsdelivr.net/npm/leaflet@1.9.3/dist/leaflet.css&quot;/&gt;\n    &lt;link rel=&quot;stylesheet&quot; href=&quot;https://cdn.jsdelivr.net/npm/bootstrap@5.2.2/dist/css/bootstrap.min.css&quot;/&gt;\n    &lt;link rel=&quot;stylesheet&quot; href=&quot;https://netdna.bootstrapcdn.com/bootstrap/3.0.0/css/bootstrap.min.css&quot;/&gt;\n    &lt;link rel=&quot;stylesheet&quot; href=&quot;https://cdn.jsdelivr.net/npm/@fortawesome/fontawesome-free@6.2.0/css/all.min.css&quot;/&gt;\n    &lt;link rel=&quot;stylesheet&quot; href=&quot;https://cdnjs.cloudflare.com/ajax/libs/Leaflet.awesome-markers/2.0.2/leaflet.awesome-markers.css&quot;/&gt;\n    &lt;link rel=&quot;stylesheet&quot; href=&quot;https://cdn.jsdelivr.net/gh/python-visualization/folium/folium/templates/leaflet.awesome.rotate.min.css&quot;/&gt;\n    \n            &lt;meta name=&quot;viewport&quot; content=&quot;width=device-width,\n                initial-scale=1.0, maximum-scale=1.0, user-scalable=no&quot; /&gt;\n            &lt;style&gt;\n                #map_67ea3220ebc9667d858c04a5e4775f5c {\n                    position: relative;\n                    width: 100.0%;\n                    height: 100.0%;\n                    left: 0.0%;\n                    top: 0.0%;\n                }\n                .leaflet-container { font-size: 1rem; }\n            &lt;/style&gt;\n        \n    &lt;script src=&quot;https://cdnjs.cloudflare.com/ajax/libs/leaflet.markercluster/1.1.0/leaflet.markercluster.js&quot;&gt;&lt;/script&gt;\n    &lt;link rel=&quot;stylesheet&quot; href=&quot;https://cdnjs.cloudflare.com/ajax/libs/leaflet.markercluster/1.1.0/MarkerCluster.css&quot;/&gt;\n    &lt;link rel=&quot;stylesheet&quot; href=&quot;https://cdnjs.cloudflare.com/ajax/libs/leaflet.markercluster/1.1.0/MarkerCluster.Default.css&quot;/&gt;\n&lt;/head&gt;\n&lt;body&gt;\n    \n    \n            &lt;div class=&quot;folium-map&quot; id=&quot;map_67ea3220ebc9667d858c04a5e4775f5c&quot; &gt;&lt;/div&gt;\n        \n&lt;/body&gt;\n&lt;script&gt;\n    \n    \n            var map_67ea3220ebc9667d858c04a5e4775f5c = L.map(\n                &quot;map_67ea3220ebc9667d858c04a5e4775f5c&quot;,\n                {\n                    center: [29.559684888503615, -95.0830971930759],\n                    crs: L.CRS.EPSG3857,\n                    zoom: 5,\n                    zoomControl: true,\n                    preferCanvas: false,\n                }\n            );\n\n            \n\n        \n    \n            var tile_layer_79e3b1912ca2245263a403e34ac6e53d = L.tileLayer(\n                &quot;https://tile.openstreetmap.org/{z}/{x}/{y}.png&quot;,\n                {&quot;attribution&quot;: &quot;\\u0026copy; \\u003ca href=\\&quot;https://www.openstreetmap.org/copyright\\&quot;\\u003eOpenStreetMap\\u003c/a\\u003e contributors&quot;, &quot;detectRetina&quot;: false, &quot;maxNativeZoom&quot;: 19, &quot;maxZoom&quot;: 19, &quot;minZoom&quot;: 0, &quot;noWrap&quot;: false, &quot;opacity&quot;: 1, &quot;subdomains&quot;: &quot;abc&quot;, &quot;tms&quot;: false}\n            );\n        \n    \n            tile_layer_79e3b1912ca2245263a403e34ac6e53d.addTo(map_67ea3220ebc9667d858c04a5e4775f5c);\n        \n    \n            var circle_8d5fe4447f866f94be590db4e27e7478 = L.circle(\n                [28.56230197, -80.57735648],\n                {&quot;bubblingMouseEvents&quot;: true, &quot;color&quot;: &quot;#d35400&quot;, &quot;dashArray&quot;: null, &quot;dashOffset&quot;: null, &quot;fill&quot;: true, &quot;fillColor&quot;: &quot;#d35400&quot;, &quot;fillOpacity&quot;: 0.2, &quot;fillRule&quot;: &quot;evenodd&quot;, &quot;lineCap&quot;: &quot;round&quot;, &quot;lineJoin&quot;: &quot;round&quot;, &quot;opacity&quot;: 1.0, &quot;radius&quot;: 1000, &quot;stroke&quot;: true, &quot;weight&quot;: 3}\n            ).addTo(map_67ea3220ebc9667d858c04a5e4775f5c);\n        \n    \n        var popup_cedc68cf2498c88f0a3ec846f20bfd27 = L.popup({&quot;maxWidth&quot;: &quot;100%&quot;});\n\n        \n            \n                var html_8b41dbac6024b0621c4167326d01a6eb = $(`&lt;div id=&quot;html_8b41dbac6024b0621c4167326d01a6eb&quot; style=&quot;width: 100.0%; height: 100.0%;&quot;&gt;CCAFS LC-40&lt;/div&gt;`)[0];\n                popup_cedc68cf2498c88f0a3ec846f20bfd27.setContent(html_8b41dbac6024b0621c4167326d01a6eb);\n            \n        \n\n        circle_8d5fe4447f866f94be590db4e27e7478.bindPopup(popup_cedc68cf2498c88f0a3ec846f20bfd27)\n        ;\n\n        \n    \n    \n            var marker_226c3798e6fcd421f3a0ed7e46305500 = L.marker(\n                [28.56230197, -80.57735648],\n                {}\n            ).addTo(map_67ea3220ebc9667d858c04a5e4775f5c);\n        \n    \n            var div_icon_5b198fc03b366aef53333917830edb83 = L.divIcon({&quot;className&quot;: &quot;empty&quot;, &quot;html&quot;: &quot;\\u003cdiv style=\\&quot;font-size: 12; color:#d35400;\\&quot;\\u003e\\u003cb\\u003eCCAFS LC-40\\u003c/b\\u003e\\u003c/div\\u003e&quot;, &quot;iconAnchor&quot;: [0, 0], &quot;iconSize&quot;: [20, 20]});\n            marker_226c3798e6fcd421f3a0ed7e46305500.setIcon(div_icon_5b198fc03b366aef53333917830edb83);\n        \n    \n            var circle_49a9ded20cebabd7a8754298fa7a36a3 = L.circle(\n                [28.56319718, -80.57682003],\n                {&quot;bubblingMouseEvents&quot;: true, &quot;color&quot;: &quot;#d35400&quot;, &quot;dashArray&quot;: null, &quot;dashOffset&quot;: null, &quot;fill&quot;: true, &quot;fillColor&quot;: &quot;#d35400&quot;, &quot;fillOpacity&quot;: 0.2, &quot;fillRule&quot;: &quot;evenodd&quot;, &quot;lineCap&quot;: &quot;round&quot;, &quot;lineJoin&quot;: &quot;round&quot;, &quot;opacity&quot;: 1.0, &quot;radius&quot;: 1000, &quot;stroke&quot;: true, &quot;weight&quot;: 3}\n            ).addTo(map_67ea3220ebc9667d858c04a5e4775f5c);\n        \n    \n        var popup_4c6d55550a9e564854cc5f3f03e8f2fd = L.popup({&quot;maxWidth&quot;: &quot;100%&quot;});\n\n        \n            \n                var html_841eaaba1c254ca4dd1e7e04625eec50 = $(`&lt;div id=&quot;html_841eaaba1c254ca4dd1e7e04625eec50&quot; style=&quot;width: 100.0%; height: 100.0%;&quot;&gt;CCAFS SLC-40&lt;/div&gt;`)[0];\n                popup_4c6d55550a9e564854cc5f3f03e8f2fd.setContent(html_841eaaba1c254ca4dd1e7e04625eec50);\n            \n        \n\n        circle_49a9ded20cebabd7a8754298fa7a36a3.bindPopup(popup_4c6d55550a9e564854cc5f3f03e8f2fd)\n        ;\n\n        \n    \n    \n            var marker_bcb1b313cb525180dc6383728026d6b2 = L.marker(\n                [28.56319718, -80.57682003],\n                {}\n            ).addTo(map_67ea3220ebc9667d858c04a5e4775f5c);\n        \n    \n            var div_icon_e4bce20bfc3082f3d02bcc0395c3601c = L.divIcon({&quot;className&quot;: &quot;empty&quot;, &quot;html&quot;: &quot;\\u003cdiv style=\\&quot;font-size: 12; color:#d35400;\\&quot;\\u003e\\u003cb\\u003eCCAFS SLC-40\\u003c/b\\u003e\\u003c/div\\u003e&quot;, &quot;iconAnchor&quot;: [0, 0], &quot;iconSize&quot;: [20, 20]});\n            marker_bcb1b313cb525180dc6383728026d6b2.setIcon(div_icon_e4bce20bfc3082f3d02bcc0395c3601c);\n        \n    \n            var circle_923860a9e41fa9ee2696f8897733920c = L.circle(\n                [28.57325457, -80.64689529],\n                {&quot;bubblingMouseEvents&quot;: true, &quot;color&quot;: &quot;#d35400&quot;, &quot;dashArray&quot;: null, &quot;dashOffset&quot;: null, &quot;fill&quot;: true, &quot;fillColor&quot;: &quot;#d35400&quot;, &quot;fillOpacity&quot;: 0.2, &quot;fillRule&quot;: &quot;evenodd&quot;, &quot;lineCap&quot;: &quot;round&quot;, &quot;lineJoin&quot;: &quot;round&quot;, &quot;opacity&quot;: 1.0, &quot;radius&quot;: 1000, &quot;stroke&quot;: true, &quot;weight&quot;: 3}\n            ).addTo(map_67ea3220ebc9667d858c04a5e4775f5c);\n        \n    \n        var popup_be18664f6711d55e7ba02ad419735cb6 = L.popup({&quot;maxWidth&quot;: &quot;100%&quot;});\n\n        \n            \n                var html_e61aabd2d58f1c09689daaf9dfce9e87 = $(`&lt;div id=&quot;html_e61aabd2d58f1c09689daaf9dfce9e87&quot; style=&quot;width: 100.0%; height: 100.0%;&quot;&gt;KSC LC-39A&lt;/div&gt;`)[0];\n                popup_be18664f6711d55e7ba02ad419735cb6.setContent(html_e61aabd2d58f1c09689daaf9dfce9e87);\n            \n        \n\n        circle_923860a9e41fa9ee2696f8897733920c.bindPopup(popup_be18664f6711d55e7ba02ad419735cb6)\n        ;\n\n        \n    \n    \n            var marker_e517a6df68129575c20f0489f1e9eff2 = L.marker(\n                [28.57325457, -80.64689529],\n                {}\n            ).addTo(map_67ea3220ebc9667d858c04a5e4775f5c);\n        \n    \n            var div_icon_116b64e25cea31be691cc84e56e3b060 = L.divIcon({&quot;className&quot;: &quot;empty&quot;, &quot;html&quot;: &quot;\\u003cdiv style=\\&quot;font-size: 12; color:#d35400;\\&quot;\\u003e\\u003cb\\u003eKSC LC-39A\\u003c/b\\u003e\\u003c/div\\u003e&quot;, &quot;iconAnchor&quot;: [0, 0], &quot;iconSize&quot;: [20, 20]});\n            marker_e517a6df68129575c20f0489f1e9eff2.setIcon(div_icon_116b64e25cea31be691cc84e56e3b060);\n        \n    \n            var circle_bdaf1dea184c3d5a1fa32d02816a08a6 = L.circle(\n                [34.63283416, -120.6107455],\n                {&quot;bubblingMouseEvents&quot;: true, &quot;color&quot;: &quot;#d35400&quot;, &quot;dashArray&quot;: null, &quot;dashOffset&quot;: null, &quot;fill&quot;: true, &quot;fillColor&quot;: &quot;#d35400&quot;, &quot;fillOpacity&quot;: 0.2, &quot;fillRule&quot;: &quot;evenodd&quot;, &quot;lineCap&quot;: &quot;round&quot;, &quot;lineJoin&quot;: &quot;round&quot;, &quot;opacity&quot;: 1.0, &quot;radius&quot;: 1000, &quot;stroke&quot;: true, &quot;weight&quot;: 3}\n            ).addTo(map_67ea3220ebc9667d858c04a5e4775f5c);\n        \n    \n        var popup_614991ec3cb2d22ac965509845b15828 = L.popup({&quot;maxWidth&quot;: &quot;100%&quot;});\n\n        \n            \n                var html_86d754981444ff45081a60ab79b2daf3 = $(`&lt;div id=&quot;html_86d754981444ff45081a60ab79b2daf3&quot; style=&quot;width: 100.0%; height: 100.0%;&quot;&gt;VAFB SLC-4E&lt;/div&gt;`)[0];\n                popup_614991ec3cb2d22ac965509845b15828.setContent(html_86d754981444ff45081a60ab79b2daf3);\n            \n        \n\n        circle_bdaf1dea184c3d5a1fa32d02816a08a6.bindPopup(popup_614991ec3cb2d22ac965509845b15828)\n        ;\n\n        \n    \n    \n            var marker_6d41f5e56d9ee8220868d661c109333f = L.marker(\n                [34.63283416, -120.6107455],\n                {}\n            ).addTo(map_67ea3220ebc9667d858c04a5e4775f5c);\n        \n    \n            var div_icon_79bf96c417448f1dd0d2388187d35cf8 = L.divIcon({&quot;className&quot;: &quot;empty&quot;, &quot;html&quot;: &quot;\\u003cdiv style=\\&quot;font-size: 12; color:#d35400;\\&quot;\\u003e\\u003cb\\u003eVAFB SLC-4E\\u003c/b\\u003e\\u003c/div\\u003e&quot;, &quot;iconAnchor&quot;: [0, 0], &quot;iconSize&quot;: [20, 20]});\n            marker_6d41f5e56d9ee8220868d661c109333f.setIcon(div_icon_79bf96c417448f1dd0d2388187d35cf8);\n        \n    \n            tile_layer_79e3b1912ca2245263a403e34ac6e53d.addTo(map_67ea3220ebc9667d858c04a5e4775f5c);\n        \n    \n            var marker_cluster_816d7d45afe0e8dfe23d98817444bd4e = L.markerClusterGroup(\n                {}\n            );\n        \n    \n            var marker_0d5195ea0249f9498b31da9b8c0d3500 = L.marker(\n                [28.56230197, -80.57735648],\n                {}\n            ).addTo(marker_cluster_816d7d45afe0e8dfe23d98817444bd4e);\n        \n    \n            var icon_88c9f92bfa39ba13025ff3fd8303bbc1 = L.AwesomeMarkers.icon(\n                {&quot;extraClasses&quot;: &quot;fa-rotate-0&quot;, &quot;icon&quot;: &quot;info-sign&quot;, &quot;iconColor&quot;: &quot;red&quot;, &quot;markerColor&quot;: &quot;white&quot;, &quot;prefix&quot;: &quot;glyphicon&quot;}\n            );\n            marker_0d5195ea0249f9498b31da9b8c0d3500.setIcon(icon_88c9f92bfa39ba13025ff3fd8303bbc1);\n        \n    \n            var marker_d16e8aad2b46a98d001b684fb6ea735c = L.marker(\n                [28.56230197, -80.57735648],\n                {}\n            ).addTo(marker_cluster_816d7d45afe0e8dfe23d98817444bd4e);\n        \n    \n            var icon_3e71ebd1c5bd31d72d1ed9cb2fe47b9c = L.AwesomeMarkers.icon(\n                {&quot;extraClasses&quot;: &quot;fa-rotate-0&quot;, &quot;icon&quot;: &quot;info-sign&quot;, &quot;iconColor&quot;: &quot;red&quot;, &quot;markerColor&quot;: &quot;white&quot;, &quot;prefix&quot;: &quot;glyphicon&quot;}\n            );\n            marker_d16e8aad2b46a98d001b684fb6ea735c.setIcon(icon_3e71ebd1c5bd31d72d1ed9cb2fe47b9c);\n        \n    \n            var marker_797598ce55978e599d6e66cad9a2753c = L.marker(\n                [28.56230197, -80.57735648],\n                {}\n            ).addTo(marker_cluster_816d7d45afe0e8dfe23d98817444bd4e);\n        \n    \n            var icon_0e862b24dcdb9b802da045d576cadb2a = L.AwesomeMarkers.icon(\n                {&quot;extraClasses&quot;: &quot;fa-rotate-0&quot;, &quot;icon&quot;: &quot;info-sign&quot;, &quot;iconColor&quot;: &quot;red&quot;, &quot;markerColor&quot;: &quot;white&quot;, &quot;prefix&quot;: &quot;glyphicon&quot;}\n            );\n            marker_797598ce55978e599d6e66cad9a2753c.setIcon(icon_0e862b24dcdb9b802da045d576cadb2a);\n        \n    \n            var marker_7fcc9317c12ada61616b3998716d0a49 = L.marker(\n                [28.56230197, -80.57735648],\n                {}\n            ).addTo(marker_cluster_816d7d45afe0e8dfe23d98817444bd4e);\n        \n    \n            var icon_fea69266cad17e2921257bf421189f0d = L.AwesomeMarkers.icon(\n                {&quot;extraClasses&quot;: &quot;fa-rotate-0&quot;, &quot;icon&quot;: &quot;info-sign&quot;, &quot;iconColor&quot;: &quot;red&quot;, &quot;markerColor&quot;: &quot;white&quot;, &quot;prefix&quot;: &quot;glyphicon&quot;}\n            );\n            marker_7fcc9317c12ada61616b3998716d0a49.setIcon(icon_fea69266cad17e2921257bf421189f0d);\n        \n    \n            var marker_72a15ee867070bc4a8ec775e14d2cd2f = L.marker(\n                [28.56230197, -80.57735648],\n                {}\n            ).addTo(marker_cluster_816d7d45afe0e8dfe23d98817444bd4e);\n        \n    \n            var icon_332e46ad515ef902ad4a60f12ce83a31 = L.AwesomeMarkers.icon(\n                {&quot;extraClasses&quot;: &quot;fa-rotate-0&quot;, &quot;icon&quot;: &quot;info-sign&quot;, &quot;iconColor&quot;: &quot;red&quot;, &quot;markerColor&quot;: &quot;white&quot;, &quot;prefix&quot;: &quot;glyphicon&quot;}\n            );\n            marker_72a15ee867070bc4a8ec775e14d2cd2f.setIcon(icon_332e46ad515ef902ad4a60f12ce83a31);\n        \n    \n            var marker_1204ce5e8ce0afab6c544d3bc7fc1f2e = L.marker(\n                [28.56230197, -80.57735648],\n                {}\n            ).addTo(marker_cluster_816d7d45afe0e8dfe23d98817444bd4e);\n        \n    \n            var icon_fb5665532532db5c4b78ea9fc7f3e189 = L.AwesomeMarkers.icon(\n                {&quot;extraClasses&quot;: &quot;fa-rotate-0&quot;, &quot;icon&quot;: &quot;info-sign&quot;, &quot;iconColor&quot;: &quot;red&quot;, &quot;markerColor&quot;: &quot;white&quot;, &quot;prefix&quot;: &quot;glyphicon&quot;}\n            );\n            marker_1204ce5e8ce0afab6c544d3bc7fc1f2e.setIcon(icon_fb5665532532db5c4b78ea9fc7f3e189);\n        \n    \n            var marker_b4da884196d96fbd67d79f02f018a223 = L.marker(\n                [28.56230197, -80.57735648],\n                {}\n            ).addTo(marker_cluster_816d7d45afe0e8dfe23d98817444bd4e);\n        \n    \n            var icon_a217da28796a12b1ea856d7b1e63eea5 = L.AwesomeMarkers.icon(\n                {&quot;extraClasses&quot;: &quot;fa-rotate-0&quot;, &quot;icon&quot;: &quot;info-sign&quot;, &quot;iconColor&quot;: &quot;red&quot;, &quot;markerColor&quot;: &quot;white&quot;, &quot;prefix&quot;: &quot;glyphicon&quot;}\n            );\n            marker_b4da884196d96fbd67d79f02f018a223.setIcon(icon_a217da28796a12b1ea856d7b1e63eea5);\n        \n    \n            var marker_25d487835779c197b29cbd2270410288 = L.marker(\n                [28.56230197, -80.57735648],\n                {}\n            ).addTo(marker_cluster_816d7d45afe0e8dfe23d98817444bd4e);\n        \n    \n            var icon_895a3a3307d317bdfbc5d8ea6f8ee033 = L.AwesomeMarkers.icon(\n                {&quot;extraClasses&quot;: &quot;fa-rotate-0&quot;, &quot;icon&quot;: &quot;info-sign&quot;, &quot;iconColor&quot;: &quot;red&quot;, &quot;markerColor&quot;: &quot;white&quot;, &quot;prefix&quot;: &quot;glyphicon&quot;}\n            );\n            marker_25d487835779c197b29cbd2270410288.setIcon(icon_895a3a3307d317bdfbc5d8ea6f8ee033);\n        \n    \n            var marker_884ae3266e8a030dba7b99674560a717 = L.marker(\n                [28.56230197, -80.57735648],\n                {}\n            ).addTo(marker_cluster_816d7d45afe0e8dfe23d98817444bd4e);\n        \n    \n            var icon_f326e2f851aecf30032b82cce9a9cc1b = L.AwesomeMarkers.icon(\n                {&quot;extraClasses&quot;: &quot;fa-rotate-0&quot;, &quot;icon&quot;: &quot;info-sign&quot;, &quot;iconColor&quot;: &quot;red&quot;, &quot;markerColor&quot;: &quot;white&quot;, &quot;prefix&quot;: &quot;glyphicon&quot;}\n            );\n            marker_884ae3266e8a030dba7b99674560a717.setIcon(icon_f326e2f851aecf30032b82cce9a9cc1b);\n        \n    \n            var marker_8c17629cf59815feee247445720a1e43 = L.marker(\n                [28.56230197, -80.57735648],\n                {}\n            ).addTo(marker_cluster_816d7d45afe0e8dfe23d98817444bd4e);\n        \n    \n            var icon_b1f453470de8205de1241d34f69b4fed = L.AwesomeMarkers.icon(\n                {&quot;extraClasses&quot;: &quot;fa-rotate-0&quot;, &quot;icon&quot;: &quot;info-sign&quot;, &quot;iconColor&quot;: &quot;red&quot;, &quot;markerColor&quot;: &quot;white&quot;, &quot;prefix&quot;: &quot;glyphicon&quot;}\n            );\n            marker_8c17629cf59815feee247445720a1e43.setIcon(icon_b1f453470de8205de1241d34f69b4fed);\n        \n    \n            var marker_f0b74cc2fce6d86193fb8c52fa11df6c = L.marker(\n                [28.56230197, -80.57735648],\n                {}\n            ).addTo(marker_cluster_816d7d45afe0e8dfe23d98817444bd4e);\n        \n    \n            var icon_2e8f3c7dc32c2456fb74123dc89371e2 = L.AwesomeMarkers.icon(\n                {&quot;extraClasses&quot;: &quot;fa-rotate-0&quot;, &quot;icon&quot;: &quot;info-sign&quot;, &quot;iconColor&quot;: &quot;red&quot;, &quot;markerColor&quot;: &quot;white&quot;, &quot;prefix&quot;: &quot;glyphicon&quot;}\n            );\n            marker_f0b74cc2fce6d86193fb8c52fa11df6c.setIcon(icon_2e8f3c7dc32c2456fb74123dc89371e2);\n        \n    \n            var marker_81578e03a061781d0d0223411b085fae = L.marker(\n                [28.56230197, -80.57735648],\n                {}\n            ).addTo(marker_cluster_816d7d45afe0e8dfe23d98817444bd4e);\n        \n    \n            var icon_882d82125922d4b116025b4112535f10 = L.AwesomeMarkers.icon(\n                {&quot;extraClasses&quot;: &quot;fa-rotate-0&quot;, &quot;icon&quot;: &quot;info-sign&quot;, &quot;iconColor&quot;: &quot;red&quot;, &quot;markerColor&quot;: &quot;white&quot;, &quot;prefix&quot;: &quot;glyphicon&quot;}\n            );\n            marker_81578e03a061781d0d0223411b085fae.setIcon(icon_882d82125922d4b116025b4112535f10);\n        \n    \n            var marker_287edfb6affa44c1d45565cac315f69f = L.marker(\n                [28.56230197, -80.57735648],\n                {}\n            ).addTo(marker_cluster_816d7d45afe0e8dfe23d98817444bd4e);\n        \n    \n            var icon_c64af494af9eee4a67557d5ba11c4915 = L.AwesomeMarkers.icon(\n                {&quot;extraClasses&quot;: &quot;fa-rotate-0&quot;, &quot;icon&quot;: &quot;info-sign&quot;, &quot;iconColor&quot;: &quot;red&quot;, &quot;markerColor&quot;: &quot;white&quot;, &quot;prefix&quot;: &quot;glyphicon&quot;}\n            );\n            marker_287edfb6affa44c1d45565cac315f69f.setIcon(icon_c64af494af9eee4a67557d5ba11c4915);\n        \n    \n            var marker_d4ea9e8ffddf01131a807d362f5fea51 = L.marker(\n                [28.56230197, -80.57735648],\n                {}\n            ).addTo(marker_cluster_816d7d45afe0e8dfe23d98817444bd4e);\n        \n    \n            var icon_f6e45dae23b54d14aa3f74b2afb19a4d = L.AwesomeMarkers.icon(\n                {&quot;extraClasses&quot;: &quot;fa-rotate-0&quot;, &quot;icon&quot;: &quot;info-sign&quot;, &quot;iconColor&quot;: &quot;red&quot;, &quot;markerColor&quot;: &quot;white&quot;, &quot;prefix&quot;: &quot;glyphicon&quot;}\n            );\n            marker_d4ea9e8ffddf01131a807d362f5fea51.setIcon(icon_f6e45dae23b54d14aa3f74b2afb19a4d);\n        \n    \n            var marker_8a7a8d237a364d89d57d05c8308b4c32 = L.marker(\n                [28.56230197, -80.57735648],\n                {}\n            ).addTo(marker_cluster_816d7d45afe0e8dfe23d98817444bd4e);\n        \n    \n            var icon_1fb924b277a3e489467555c9e76800a1 = L.AwesomeMarkers.icon(\n                {&quot;extraClasses&quot;: &quot;fa-rotate-0&quot;, &quot;icon&quot;: &quot;info-sign&quot;, &quot;iconColor&quot;: &quot;red&quot;, &quot;markerColor&quot;: &quot;white&quot;, &quot;prefix&quot;: &quot;glyphicon&quot;}\n            );\n            marker_8a7a8d237a364d89d57d05c8308b4c32.setIcon(icon_1fb924b277a3e489467555c9e76800a1);\n        \n    \n            var marker_4b520d2e078ad6d2171b63490a99d5a4 = L.marker(\n                [28.56230197, -80.57735648],\n                {}\n            ).addTo(marker_cluster_816d7d45afe0e8dfe23d98817444bd4e);\n        \n    \n            var icon_7a0ce915bd77a02ede392943e83ce6ac = L.AwesomeMarkers.icon(\n                {&quot;extraClasses&quot;: &quot;fa-rotate-0&quot;, &quot;icon&quot;: &quot;info-sign&quot;, &quot;iconColor&quot;: &quot;red&quot;, &quot;markerColor&quot;: &quot;white&quot;, &quot;prefix&quot;: &quot;glyphicon&quot;}\n            );\n            marker_4b520d2e078ad6d2171b63490a99d5a4.setIcon(icon_7a0ce915bd77a02ede392943e83ce6ac);\n        \n    \n            var marker_0043b1d0de36f82a4f0d16716eeda9fc = L.marker(\n                [28.56230197, -80.57735648],\n                {}\n            ).addTo(marker_cluster_816d7d45afe0e8dfe23d98817444bd4e);\n        \n    \n            var icon_cd486009448ad5023b24ff293a4d2892 = L.AwesomeMarkers.icon(\n                {&quot;extraClasses&quot;: &quot;fa-rotate-0&quot;, &quot;icon&quot;: &quot;info-sign&quot;, &quot;iconColor&quot;: &quot;red&quot;, &quot;markerColor&quot;: &quot;white&quot;, &quot;prefix&quot;: &quot;glyphicon&quot;}\n            );\n            marker_0043b1d0de36f82a4f0d16716eeda9fc.setIcon(icon_cd486009448ad5023b24ff293a4d2892);\n        \n    \n            var marker_4de742f9444028b85019bde3cd46fa5e = L.marker(\n                [28.56230197, -80.57735648],\n                {}\n            ).addTo(marker_cluster_816d7d45afe0e8dfe23d98817444bd4e);\n        \n    \n            var icon_0180d82e25adcd6d64464cc31295d20c = L.AwesomeMarkers.icon(\n                {&quot;extraClasses&quot;: &quot;fa-rotate-0&quot;, &quot;icon&quot;: &quot;info-sign&quot;, &quot;iconColor&quot;: &quot;green&quot;, &quot;markerColor&quot;: &quot;white&quot;, &quot;prefix&quot;: &quot;glyphicon&quot;}\n            );\n            marker_4de742f9444028b85019bde3cd46fa5e.setIcon(icon_0180d82e25adcd6d64464cc31295d20c);\n        \n    \n            var marker_6fd767493b15941818644709125aa4cd = L.marker(\n                [28.56230197, -80.57735648],\n                {}\n            ).addTo(marker_cluster_816d7d45afe0e8dfe23d98817444bd4e);\n        \n    \n            var icon_3e01ad55760424daf7aa33eb98fc5072 = L.AwesomeMarkers.icon(\n                {&quot;extraClasses&quot;: &quot;fa-rotate-0&quot;, &quot;icon&quot;: &quot;info-sign&quot;, &quot;iconColor&quot;: &quot;green&quot;, &quot;markerColor&quot;: &quot;white&quot;, &quot;prefix&quot;: &quot;glyphicon&quot;}\n            );\n            marker_6fd767493b15941818644709125aa4cd.setIcon(icon_3e01ad55760424daf7aa33eb98fc5072);\n        \n    \n            var marker_bc719a2bd6eed3987b0b4ee3e10b127d = L.marker(\n                [28.56230197, -80.57735648],\n                {}\n            ).addTo(marker_cluster_816d7d45afe0e8dfe23d98817444bd4e);\n        \n    \n            var icon_90973180695a32be171ce7c132703b93 = L.AwesomeMarkers.icon(\n                {&quot;extraClasses&quot;: &quot;fa-rotate-0&quot;, &quot;icon&quot;: &quot;info-sign&quot;, &quot;iconColor&quot;: &quot;red&quot;, &quot;markerColor&quot;: &quot;white&quot;, &quot;prefix&quot;: &quot;glyphicon&quot;}\n            );\n            marker_bc719a2bd6eed3987b0b4ee3e10b127d.setIcon(icon_90973180695a32be171ce7c132703b93);\n        \n    \n            var marker_851cffec1b09f2343fa2fbf617402ea0 = L.marker(\n                [28.56230197, -80.57735648],\n                {}\n            ).addTo(marker_cluster_816d7d45afe0e8dfe23d98817444bd4e);\n        \n    \n            var icon_e8558ad8801e303f71c3b33c1aae8621 = L.AwesomeMarkers.icon(\n                {&quot;extraClasses&quot;: &quot;fa-rotate-0&quot;, &quot;icon&quot;: &quot;info-sign&quot;, &quot;iconColor&quot;: &quot;green&quot;, &quot;markerColor&quot;: &quot;white&quot;, &quot;prefix&quot;: &quot;glyphicon&quot;}\n            );\n            marker_851cffec1b09f2343fa2fbf617402ea0.setIcon(icon_e8558ad8801e303f71c3b33c1aae8621);\n        \n    \n            var marker_b96982c68832c60b92320bddf1662b0a = L.marker(\n                [28.56230197, -80.57735648],\n                {}\n            ).addTo(marker_cluster_816d7d45afe0e8dfe23d98817444bd4e);\n        \n    \n            var icon_82ca6f4f11140f6225e4cf83472d893e = L.AwesomeMarkers.icon(\n                {&quot;extraClasses&quot;: &quot;fa-rotate-0&quot;, &quot;icon&quot;: &quot;info-sign&quot;, &quot;iconColor&quot;: &quot;green&quot;, &quot;markerColor&quot;: &quot;white&quot;, &quot;prefix&quot;: &quot;glyphicon&quot;}\n            );\n            marker_b96982c68832c60b92320bddf1662b0a.setIcon(icon_82ca6f4f11140f6225e4cf83472d893e);\n        \n    \n            var marker_a9025b21558881dcbd9caf5b14e0c1a3 = L.marker(\n                [28.56230197, -80.57735648],\n                {}\n            ).addTo(marker_cluster_816d7d45afe0e8dfe23d98817444bd4e);\n        \n    \n            var icon_c077c15e5364144b4ea96757eabf78c4 = L.AwesomeMarkers.icon(\n                {&quot;extraClasses&quot;: &quot;fa-rotate-0&quot;, &quot;icon&quot;: &quot;info-sign&quot;, &quot;iconColor&quot;: &quot;green&quot;, &quot;markerColor&quot;: &quot;white&quot;, &quot;prefix&quot;: &quot;glyphicon&quot;}\n            );\n            marker_a9025b21558881dcbd9caf5b14e0c1a3.setIcon(icon_c077c15e5364144b4ea96757eabf78c4);\n        \n    \n            var marker_739c9b06f5e4899b8798a2c114842343 = L.marker(\n                [28.56230197, -80.57735648],\n                {}\n            ).addTo(marker_cluster_816d7d45afe0e8dfe23d98817444bd4e);\n        \n    \n            var icon_11fb3638140ce3781067223f9273d53c = L.AwesomeMarkers.icon(\n                {&quot;extraClasses&quot;: &quot;fa-rotate-0&quot;, &quot;icon&quot;: &quot;info-sign&quot;, &quot;iconColor&quot;: &quot;red&quot;, &quot;markerColor&quot;: &quot;white&quot;, &quot;prefix&quot;: &quot;glyphicon&quot;}\n            );\n            marker_739c9b06f5e4899b8798a2c114842343.setIcon(icon_11fb3638140ce3781067223f9273d53c);\n        \n    \n            var marker_60fb1c5a40dece657fde93594ba8ca7e = L.marker(\n                [28.56230197, -80.57735648],\n                {}\n            ).addTo(marker_cluster_816d7d45afe0e8dfe23d98817444bd4e);\n        \n    \n            var icon_442ccec52c56f58d3a1bcdcd5976d434 = L.AwesomeMarkers.icon(\n                {&quot;extraClasses&quot;: &quot;fa-rotate-0&quot;, &quot;icon&quot;: &quot;info-sign&quot;, &quot;iconColor&quot;: &quot;green&quot;, &quot;markerColor&quot;: &quot;white&quot;, &quot;prefix&quot;: &quot;glyphicon&quot;}\n            );\n            marker_60fb1c5a40dece657fde93594ba8ca7e.setIcon(icon_442ccec52c56f58d3a1bcdcd5976d434);\n        \n    \n            var marker_a44f356bf3304e496e06ccfb7a019747 = L.marker(\n                [28.56230197, -80.57735648],\n                {}\n            ).addTo(marker_cluster_816d7d45afe0e8dfe23d98817444bd4e);\n        \n    \n            var icon_fac22a93666e9a268cccd8073dae08be = L.AwesomeMarkers.icon(\n                {&quot;extraClasses&quot;: &quot;fa-rotate-0&quot;, &quot;icon&quot;: &quot;info-sign&quot;, &quot;iconColor&quot;: &quot;green&quot;, &quot;markerColor&quot;: &quot;white&quot;, &quot;prefix&quot;: &quot;glyphicon&quot;}\n            );\n            marker_a44f356bf3304e496e06ccfb7a019747.setIcon(icon_fac22a93666e9a268cccd8073dae08be);\n        \n    \n            var marker_4165bd5dad51004df0d3761f4f67e787 = L.marker(\n                [34.63283416, -120.6107455],\n                {}\n            ).addTo(marker_cluster_816d7d45afe0e8dfe23d98817444bd4e);\n        \n    \n            var icon_7e6006970a373c7335619aacbd6ae6c4 = L.AwesomeMarkers.icon(\n                {&quot;extraClasses&quot;: &quot;fa-rotate-0&quot;, &quot;icon&quot;: &quot;info-sign&quot;, &quot;iconColor&quot;: &quot;red&quot;, &quot;markerColor&quot;: &quot;white&quot;, &quot;prefix&quot;: &quot;glyphicon&quot;}\n            );\n            marker_4165bd5dad51004df0d3761f4f67e787.setIcon(icon_7e6006970a373c7335619aacbd6ae6c4);\n        \n    \n            var marker_ad892834af3666a8553f2fae1324bdbb = L.marker(\n                [34.63283416, -120.6107455],\n                {}\n            ).addTo(marker_cluster_816d7d45afe0e8dfe23d98817444bd4e);\n        \n    \n            var icon_6e5404ec421027c7d891523ab00d4d11 = L.AwesomeMarkers.icon(\n                {&quot;extraClasses&quot;: &quot;fa-rotate-0&quot;, &quot;icon&quot;: &quot;info-sign&quot;, &quot;iconColor&quot;: &quot;red&quot;, &quot;markerColor&quot;: &quot;white&quot;, &quot;prefix&quot;: &quot;glyphicon&quot;}\n            );\n            marker_ad892834af3666a8553f2fae1324bdbb.setIcon(icon_6e5404ec421027c7d891523ab00d4d11);\n        \n    \n            var marker_d5a4432a5889fcb584f6ee5b02fa8618 = L.marker(\n                [34.63283416, -120.6107455],\n                {}\n            ).addTo(marker_cluster_816d7d45afe0e8dfe23d98817444bd4e);\n        \n    \n            var icon_cd9e8e04c55a49f843ce05992675e1fe = L.AwesomeMarkers.icon(\n                {&quot;extraClasses&quot;: &quot;fa-rotate-0&quot;, &quot;icon&quot;: &quot;info-sign&quot;, &quot;iconColor&quot;: &quot;green&quot;, &quot;markerColor&quot;: &quot;white&quot;, &quot;prefix&quot;: &quot;glyphicon&quot;}\n            );\n            marker_d5a4432a5889fcb584f6ee5b02fa8618.setIcon(icon_cd9e8e04c55a49f843ce05992675e1fe);\n        \n    \n            var marker_dfb13a0b28a0537785ecd6eef8b9f511 = L.marker(\n                [34.63283416, -120.6107455],\n                {}\n            ).addTo(marker_cluster_816d7d45afe0e8dfe23d98817444bd4e);\n        \n    \n            var icon_693bb70b91408cb26710c6579ff73e09 = L.AwesomeMarkers.icon(\n                {&quot;extraClasses&quot;: &quot;fa-rotate-0&quot;, &quot;icon&quot;: &quot;info-sign&quot;, &quot;iconColor&quot;: &quot;green&quot;, &quot;markerColor&quot;: &quot;white&quot;, &quot;prefix&quot;: &quot;glyphicon&quot;}\n            );\n            marker_dfb13a0b28a0537785ecd6eef8b9f511.setIcon(icon_693bb70b91408cb26710c6579ff73e09);\n        \n    \n            var marker_f426f39c8632465ec26c665c6c4e7de0 = L.marker(\n                [34.63283416, -120.6107455],\n                {}\n            ).addTo(marker_cluster_816d7d45afe0e8dfe23d98817444bd4e);\n        \n    \n            var icon_04c7e6f75fe480ee26d5ebacea01e043 = L.AwesomeMarkers.icon(\n                {&quot;extraClasses&quot;: &quot;fa-rotate-0&quot;, &quot;icon&quot;: &quot;info-sign&quot;, &quot;iconColor&quot;: &quot;green&quot;, &quot;markerColor&quot;: &quot;white&quot;, &quot;prefix&quot;: &quot;glyphicon&quot;}\n            );\n            marker_f426f39c8632465ec26c665c6c4e7de0.setIcon(icon_04c7e6f75fe480ee26d5ebacea01e043);\n        \n    \n            var marker_1e1145a497fbbca8dd0034095e74016a = L.marker(\n                [34.63283416, -120.6107455],\n                {}\n            ).addTo(marker_cluster_816d7d45afe0e8dfe23d98817444bd4e);\n        \n    \n            var icon_27628cb3c5cb7f2a04c330f3cc9dd3fe = L.AwesomeMarkers.icon(\n                {&quot;extraClasses&quot;: &quot;fa-rotate-0&quot;, &quot;icon&quot;: &quot;info-sign&quot;, &quot;iconColor&quot;: &quot;green&quot;, &quot;markerColor&quot;: &quot;white&quot;, &quot;prefix&quot;: &quot;glyphicon&quot;}\n            );\n            marker_1e1145a497fbbca8dd0034095e74016a.setIcon(icon_27628cb3c5cb7f2a04c330f3cc9dd3fe);\n        \n    \n            var marker_f59af226e6665fc9f7d6d535e9d3b32a = L.marker(\n                [34.63283416, -120.6107455],\n                {}\n            ).addTo(marker_cluster_816d7d45afe0e8dfe23d98817444bd4e);\n        \n    \n            var icon_cbd4dfc0c9d664e0637f5269a4e4335a = L.AwesomeMarkers.icon(\n                {&quot;extraClasses&quot;: &quot;fa-rotate-0&quot;, &quot;icon&quot;: &quot;info-sign&quot;, &quot;iconColor&quot;: &quot;red&quot;, &quot;markerColor&quot;: &quot;white&quot;, &quot;prefix&quot;: &quot;glyphicon&quot;}\n            );\n            marker_f59af226e6665fc9f7d6d535e9d3b32a.setIcon(icon_cbd4dfc0c9d664e0637f5269a4e4335a);\n        \n    \n            var marker_1d02bf69be0be63350cc1f2cdd6f726b = L.marker(\n                [34.63283416, -120.6107455],\n                {}\n            ).addTo(marker_cluster_816d7d45afe0e8dfe23d98817444bd4e);\n        \n    \n            var icon_14ad7c561a363e9c517a1df1b5d3f692 = L.AwesomeMarkers.icon(\n                {&quot;extraClasses&quot;: &quot;fa-rotate-0&quot;, &quot;icon&quot;: &quot;info-sign&quot;, &quot;iconColor&quot;: &quot;red&quot;, &quot;markerColor&quot;: &quot;white&quot;, &quot;prefix&quot;: &quot;glyphicon&quot;}\n            );\n            marker_1d02bf69be0be63350cc1f2cdd6f726b.setIcon(icon_14ad7c561a363e9c517a1df1b5d3f692);\n        \n    \n            var marker_a8a3718ba99980259bd340ea0d44f177 = L.marker(\n                [34.63283416, -120.6107455],\n                {}\n            ).addTo(marker_cluster_816d7d45afe0e8dfe23d98817444bd4e);\n        \n    \n            var icon_107b4068b2265ad32026ba1ec768a4f9 = L.AwesomeMarkers.icon(\n                {&quot;extraClasses&quot;: &quot;fa-rotate-0&quot;, &quot;icon&quot;: &quot;info-sign&quot;, &quot;iconColor&quot;: &quot;red&quot;, &quot;markerColor&quot;: &quot;white&quot;, &quot;prefix&quot;: &quot;glyphicon&quot;}\n            );\n            marker_a8a3718ba99980259bd340ea0d44f177.setIcon(icon_107b4068b2265ad32026ba1ec768a4f9);\n        \n    \n            var marker_c3beea848fb17f0d28a2aad0cf313323 = L.marker(\n                [34.63283416, -120.6107455],\n                {}\n            ).addTo(marker_cluster_816d7d45afe0e8dfe23d98817444bd4e);\n        \n    \n            var icon_2844432d1228027ae692a974f320615e = L.AwesomeMarkers.icon(\n                {&quot;extraClasses&quot;: &quot;fa-rotate-0&quot;, &quot;icon&quot;: &quot;info-sign&quot;, &quot;iconColor&quot;: &quot;red&quot;, &quot;markerColor&quot;: &quot;white&quot;, &quot;prefix&quot;: &quot;glyphicon&quot;}\n            );\n            marker_c3beea848fb17f0d28a2aad0cf313323.setIcon(icon_2844432d1228027ae692a974f320615e);\n        \n    \n            var marker_8c03b38a882cbac7d97d51db02a90e69 = L.marker(\n                [28.57325457, -80.64689529],\n                {}\n            ).addTo(marker_cluster_816d7d45afe0e8dfe23d98817444bd4e);\n        \n    \n            var icon_691ab24c6167f8a259ba12dc8220184e = L.AwesomeMarkers.icon(\n                {&quot;extraClasses&quot;: &quot;fa-rotate-0&quot;, &quot;icon&quot;: &quot;info-sign&quot;, &quot;iconColor&quot;: &quot;green&quot;, &quot;markerColor&quot;: &quot;white&quot;, &quot;prefix&quot;: &quot;glyphicon&quot;}\n            );\n            marker_8c03b38a882cbac7d97d51db02a90e69.setIcon(icon_691ab24c6167f8a259ba12dc8220184e);\n        \n    \n            var marker_013b8b63215df90cea3c06e6c252a437 = L.marker(\n                [28.57325457, -80.64689529],\n                {}\n            ).addTo(marker_cluster_816d7d45afe0e8dfe23d98817444bd4e);\n        \n    \n            var icon_21f373134c35b7f1e0174f2d5eb50c77 = L.AwesomeMarkers.icon(\n                {&quot;extraClasses&quot;: &quot;fa-rotate-0&quot;, &quot;icon&quot;: &quot;info-sign&quot;, &quot;iconColor&quot;: &quot;red&quot;, &quot;markerColor&quot;: &quot;white&quot;, &quot;prefix&quot;: &quot;glyphicon&quot;}\n            );\n            marker_013b8b63215df90cea3c06e6c252a437.setIcon(icon_21f373134c35b7f1e0174f2d5eb50c77);\n        \n    \n            var marker_32601a7bd7dd73c54609ff806ee34cb2 = L.marker(\n                [28.57325457, -80.64689529],\n                {}\n            ).addTo(marker_cluster_816d7d45afe0e8dfe23d98817444bd4e);\n        \n    \n            var icon_9566c4d9b2df378d79de6a66859d01f8 = L.AwesomeMarkers.icon(\n                {&quot;extraClasses&quot;: &quot;fa-rotate-0&quot;, &quot;icon&quot;: &quot;info-sign&quot;, &quot;iconColor&quot;: &quot;green&quot;, &quot;markerColor&quot;: &quot;white&quot;, &quot;prefix&quot;: &quot;glyphicon&quot;}\n            );\n            marker_32601a7bd7dd73c54609ff806ee34cb2.setIcon(icon_9566c4d9b2df378d79de6a66859d01f8);\n        \n    \n            var marker_65f561b832cbbae09a542e5644e9687d = L.marker(\n                [28.57325457, -80.64689529],\n                {}\n            ).addTo(marker_cluster_816d7d45afe0e8dfe23d98817444bd4e);\n        \n    \n            var icon_0ddbbfb47075eedefc587519e7809af9 = L.AwesomeMarkers.icon(\n                {&quot;extraClasses&quot;: &quot;fa-rotate-0&quot;, &quot;icon&quot;: &quot;info-sign&quot;, &quot;iconColor&quot;: &quot;green&quot;, &quot;markerColor&quot;: &quot;white&quot;, &quot;prefix&quot;: &quot;glyphicon&quot;}\n            );\n            marker_65f561b832cbbae09a542e5644e9687d.setIcon(icon_0ddbbfb47075eedefc587519e7809af9);\n        \n    \n            var marker_40702282cecbfd9e79d87547625a8d8f = L.marker(\n                [28.57325457, -80.64689529],\n                {}\n            ).addTo(marker_cluster_816d7d45afe0e8dfe23d98817444bd4e);\n        \n    \n            var icon_d1e266490e475ecb334be9eed180da51 = L.AwesomeMarkers.icon(\n                {&quot;extraClasses&quot;: &quot;fa-rotate-0&quot;, &quot;icon&quot;: &quot;info-sign&quot;, &quot;iconColor&quot;: &quot;red&quot;, &quot;markerColor&quot;: &quot;white&quot;, &quot;prefix&quot;: &quot;glyphicon&quot;}\n            );\n            marker_40702282cecbfd9e79d87547625a8d8f.setIcon(icon_d1e266490e475ecb334be9eed180da51);\n        \n    \n            var marker_0906a44ab2befe2fde2b30a4894409ed = L.marker(\n                [28.57325457, -80.64689529],\n                {}\n            ).addTo(marker_cluster_816d7d45afe0e8dfe23d98817444bd4e);\n        \n    \n            var icon_495f07cd9378ab13d35e65a68d0195ca = L.AwesomeMarkers.icon(\n                {&quot;extraClasses&quot;: &quot;fa-rotate-0&quot;, &quot;icon&quot;: &quot;info-sign&quot;, &quot;iconColor&quot;: &quot;green&quot;, &quot;markerColor&quot;: &quot;white&quot;, &quot;prefix&quot;: &quot;glyphicon&quot;}\n            );\n            marker_0906a44ab2befe2fde2b30a4894409ed.setIcon(icon_495f07cd9378ab13d35e65a68d0195ca);\n        \n    \n            var marker_25b0b05aa3ec8cd305bad55d34803b7a = L.marker(\n                [28.57325457, -80.64689529],\n                {}\n            ).addTo(marker_cluster_816d7d45afe0e8dfe23d98817444bd4e);\n        \n    \n            var icon_5844bfc6068959933ad7b8f3017c8348 = L.AwesomeMarkers.icon(\n                {&quot;extraClasses&quot;: &quot;fa-rotate-0&quot;, &quot;icon&quot;: &quot;info-sign&quot;, &quot;iconColor&quot;: &quot;green&quot;, &quot;markerColor&quot;: &quot;white&quot;, &quot;prefix&quot;: &quot;glyphicon&quot;}\n            );\n            marker_25b0b05aa3ec8cd305bad55d34803b7a.setIcon(icon_5844bfc6068959933ad7b8f3017c8348);\n        \n    \n            var marker_f39ead5e06a749190b581a6f1d8e6ecb = L.marker(\n                [28.57325457, -80.64689529],\n                {}\n            ).addTo(marker_cluster_816d7d45afe0e8dfe23d98817444bd4e);\n        \n    \n            var icon_e95686a7cd32dcb3eaebb69649c10b73 = L.AwesomeMarkers.icon(\n                {&quot;extraClasses&quot;: &quot;fa-rotate-0&quot;, &quot;icon&quot;: &quot;info-sign&quot;, &quot;iconColor&quot;: &quot;red&quot;, &quot;markerColor&quot;: &quot;white&quot;, &quot;prefix&quot;: &quot;glyphicon&quot;}\n            );\n            marker_f39ead5e06a749190b581a6f1d8e6ecb.setIcon(icon_e95686a7cd32dcb3eaebb69649c10b73);\n        \n    \n            var marker_0df4f2230251f5e0c9bbd365d5983559 = L.marker(\n                [28.57325457, -80.64689529],\n                {}\n            ).addTo(marker_cluster_816d7d45afe0e8dfe23d98817444bd4e);\n        \n    \n            var icon_935403ac2e99a7dae46462c803a5c467 = L.AwesomeMarkers.icon(\n                {&quot;extraClasses&quot;: &quot;fa-rotate-0&quot;, &quot;icon&quot;: &quot;info-sign&quot;, &quot;iconColor&quot;: &quot;green&quot;, &quot;markerColor&quot;: &quot;white&quot;, &quot;prefix&quot;: &quot;glyphicon&quot;}\n            );\n            marker_0df4f2230251f5e0c9bbd365d5983559.setIcon(icon_935403ac2e99a7dae46462c803a5c467);\n        \n    \n            var marker_ac011efc53723e6a7fb5bdf493bcf11d = L.marker(\n                [28.57325457, -80.64689529],\n                {}\n            ).addTo(marker_cluster_816d7d45afe0e8dfe23d98817444bd4e);\n        \n    \n            var icon_406a6e6b761fcd4deee7676f9d94e9b7 = L.AwesomeMarkers.icon(\n                {&quot;extraClasses&quot;: &quot;fa-rotate-0&quot;, &quot;icon&quot;: &quot;info-sign&quot;, &quot;iconColor&quot;: &quot;green&quot;, &quot;markerColor&quot;: &quot;white&quot;, &quot;prefix&quot;: &quot;glyphicon&quot;}\n            );\n            marker_ac011efc53723e6a7fb5bdf493bcf11d.setIcon(icon_406a6e6b761fcd4deee7676f9d94e9b7);\n        \n    \n            var marker_731e96dbf9ff722c34f352c9f81fdd81 = L.marker(\n                [28.57325457, -80.64689529],\n                {}\n            ).addTo(marker_cluster_816d7d45afe0e8dfe23d98817444bd4e);\n        \n    \n            var icon_2c85674cc684dc982d55f0c9bc040721 = L.AwesomeMarkers.icon(\n                {&quot;extraClasses&quot;: &quot;fa-rotate-0&quot;, &quot;icon&quot;: &quot;info-sign&quot;, &quot;iconColor&quot;: &quot;green&quot;, &quot;markerColor&quot;: &quot;white&quot;, &quot;prefix&quot;: &quot;glyphicon&quot;}\n            );\n            marker_731e96dbf9ff722c34f352c9f81fdd81.setIcon(icon_2c85674cc684dc982d55f0c9bc040721);\n        \n    \n            var marker_cbe526ed1f967a8844e1858d98d6e9d5 = L.marker(\n                [28.57325457, -80.64689529],\n                {}\n            ).addTo(marker_cluster_816d7d45afe0e8dfe23d98817444bd4e);\n        \n    \n            var icon_78894d9cb3b665576e84402266279ac0 = L.AwesomeMarkers.icon(\n                {&quot;extraClasses&quot;: &quot;fa-rotate-0&quot;, &quot;icon&quot;: &quot;info-sign&quot;, &quot;iconColor&quot;: &quot;green&quot;, &quot;markerColor&quot;: &quot;white&quot;, &quot;prefix&quot;: &quot;glyphicon&quot;}\n            );\n            marker_cbe526ed1f967a8844e1858d98d6e9d5.setIcon(icon_78894d9cb3b665576e84402266279ac0);\n        \n    \n            var marker_51b7ec7ade113981bc03c461bf5ae448 = L.marker(\n                [28.57325457, -80.64689529],\n                {}\n            ).addTo(marker_cluster_816d7d45afe0e8dfe23d98817444bd4e);\n        \n    \n            var icon_79aaedb75c5f7036f5f5e0a868a86bdd = L.AwesomeMarkers.icon(\n                {&quot;extraClasses&quot;: &quot;fa-rotate-0&quot;, &quot;icon&quot;: &quot;info-sign&quot;, &quot;iconColor&quot;: &quot;green&quot;, &quot;markerColor&quot;: &quot;white&quot;, &quot;prefix&quot;: &quot;glyphicon&quot;}\n            );\n            marker_51b7ec7ade113981bc03c461bf5ae448.setIcon(icon_79aaedb75c5f7036f5f5e0a868a86bdd);\n        \n    \n            var marker_19f50f4a81dd7c61fa31b9d8cb69a271 = L.marker(\n                [28.56319718, -80.57682003],\n                {}\n            ).addTo(marker_cluster_816d7d45afe0e8dfe23d98817444bd4e);\n        \n    \n            var icon_7d3ca3b26f377fb12a205be7aae2a1b9 = L.AwesomeMarkers.icon(\n                {&quot;extraClasses&quot;: &quot;fa-rotate-0&quot;, &quot;icon&quot;: &quot;info-sign&quot;, &quot;iconColor&quot;: &quot;green&quot;, &quot;markerColor&quot;: &quot;white&quot;, &quot;prefix&quot;: &quot;glyphicon&quot;}\n            );\n            marker_19f50f4a81dd7c61fa31b9d8cb69a271.setIcon(icon_7d3ca3b26f377fb12a205be7aae2a1b9);\n        \n    \n            var marker_268d2f5c833d6954b0d7898839a25db4 = L.marker(\n                [28.56319718, -80.57682003],\n                {}\n            ).addTo(marker_cluster_816d7d45afe0e8dfe23d98817444bd4e);\n        \n    \n            var icon_a4450f6f261d2618627992e40b4428e1 = L.AwesomeMarkers.icon(\n                {&quot;extraClasses&quot;: &quot;fa-rotate-0&quot;, &quot;icon&quot;: &quot;info-sign&quot;, &quot;iconColor&quot;: &quot;green&quot;, &quot;markerColor&quot;: &quot;white&quot;, &quot;prefix&quot;: &quot;glyphicon&quot;}\n            );\n            marker_268d2f5c833d6954b0d7898839a25db4.setIcon(icon_a4450f6f261d2618627992e40b4428e1);\n        \n    \n            var marker_8e6eb5757e068ce5c02fba33154b821a = L.marker(\n                [28.56319718, -80.57682003],\n                {}\n            ).addTo(marker_cluster_816d7d45afe0e8dfe23d98817444bd4e);\n        \n    \n            var icon_a5a63ee0fb7373425f4ab186646e4f8a = L.AwesomeMarkers.icon(\n                {&quot;extraClasses&quot;: &quot;fa-rotate-0&quot;, &quot;icon&quot;: &quot;info-sign&quot;, &quot;iconColor&quot;: &quot;red&quot;, &quot;markerColor&quot;: &quot;white&quot;, &quot;prefix&quot;: &quot;glyphicon&quot;}\n            );\n            marker_8e6eb5757e068ce5c02fba33154b821a.setIcon(icon_a5a63ee0fb7373425f4ab186646e4f8a);\n        \n    \n            var marker_fc864e9b83bbdc75443efeb29b19324f = L.marker(\n                [28.56319718, -80.57682003],\n                {}\n            ).addTo(marker_cluster_816d7d45afe0e8dfe23d98817444bd4e);\n        \n    \n            var icon_215c9f5a26e47582b7cfd1b617ba046c = L.AwesomeMarkers.icon(\n                {&quot;extraClasses&quot;: &quot;fa-rotate-0&quot;, &quot;icon&quot;: &quot;info-sign&quot;, &quot;iconColor&quot;: &quot;red&quot;, &quot;markerColor&quot;: &quot;white&quot;, &quot;prefix&quot;: &quot;glyphicon&quot;}\n            );\n            marker_fc864e9b83bbdc75443efeb29b19324f.setIcon(icon_215c9f5a26e47582b7cfd1b617ba046c);\n        \n    \n            var marker_90a6d8a3feb808be71002903207b3f3a = L.marker(\n                [28.56319718, -80.57682003],\n                {}\n            ).addTo(marker_cluster_816d7d45afe0e8dfe23d98817444bd4e);\n        \n    \n            var icon_55437f712ad8b774b3d29990bf0e1eaa = L.AwesomeMarkers.icon(\n                {&quot;extraClasses&quot;: &quot;fa-rotate-0&quot;, &quot;icon&quot;: &quot;info-sign&quot;, &quot;iconColor&quot;: &quot;red&quot;, &quot;markerColor&quot;: &quot;white&quot;, &quot;prefix&quot;: &quot;glyphicon&quot;}\n            );\n            marker_90a6d8a3feb808be71002903207b3f3a.setIcon(icon_55437f712ad8b774b3d29990bf0e1eaa);\n        \n    \n            var marker_fc730fb8b6b3e30b837cb8d15544560f = L.marker(\n                [28.56319718, -80.57682003],\n                {}\n            ).addTo(marker_cluster_816d7d45afe0e8dfe23d98817444bd4e);\n        \n    \n            var icon_af39fbec015b2bd992303f8b93eccb8f = L.AwesomeMarkers.icon(\n                {&quot;extraClasses&quot;: &quot;fa-rotate-0&quot;, &quot;icon&quot;: &quot;info-sign&quot;, &quot;iconColor&quot;: &quot;green&quot;, &quot;markerColor&quot;: &quot;white&quot;, &quot;prefix&quot;: &quot;glyphicon&quot;}\n            );\n            marker_fc730fb8b6b3e30b837cb8d15544560f.setIcon(icon_af39fbec015b2bd992303f8b93eccb8f);\n        \n    \n            var marker_3e9d2f40cc36f0a06b4b5207818a3ce6 = L.marker(\n                [28.56319718, -80.57682003],\n                {}\n            ).addTo(marker_cluster_816d7d45afe0e8dfe23d98817444bd4e);\n        \n    \n            var icon_2c1977b94d3e82f85359e4b5469e3d54 = L.AwesomeMarkers.icon(\n                {&quot;extraClasses&quot;: &quot;fa-rotate-0&quot;, &quot;icon&quot;: &quot;info-sign&quot;, &quot;iconColor&quot;: &quot;red&quot;, &quot;markerColor&quot;: &quot;white&quot;, &quot;prefix&quot;: &quot;glyphicon&quot;}\n            );\n            marker_3e9d2f40cc36f0a06b4b5207818a3ce6.setIcon(icon_2c1977b94d3e82f85359e4b5469e3d54);\n        \n    \n            marker_cluster_816d7d45afe0e8dfe23d98817444bd4e.addTo(map_67ea3220ebc9667d858c04a5e4775f5c);\n        \n&lt;/script&gt;\n&lt;/html&gt;\" style=\"position:absolute;width:100%;height:100%;left:0;top:0;border:none !important;\" allowfullscreen webkitallowfullscreen mozallowfullscreen></iframe></div></div>"
          },
          "metadata": {}
        }
      ],
      "execution_count": 14
    },
    {
      "cell_type": "markdown",
      "source": "Your updated map may look like the following screenshots:\n",
      "metadata": {}
    },
    {
      "cell_type": "markdown",
      "source": "<center>\n    <img src=\"https://cf-courses-data.s3.us.cloud-object-storage.appdomain.cloud/IBM-DS0321EN-SkillsNetwork/labs/module_3/images/launch_site_marker_cluster.png\">\n</center>\n",
      "metadata": {}
    },
    {
      "cell_type": "markdown",
      "source": "<center>\n    <img src=\"https://cf-courses-data.s3.us.cloud-object-storage.appdomain.cloud/IBM-DS0321EN-SkillsNetwork/labs/module_3/images/launch_site_marker_cluster_zoomed.png\">\n</center>\n",
      "metadata": {}
    },
    {
      "cell_type": "markdown",
      "source": "From the color-labeled markers in marker clusters, you should be able to easily identify which launch sites have relatively high success rates.\n",
      "metadata": {}
    },
    {
      "cell_type": "code",
      "source": "# TASK 3: Calculate the distances between a launch site to its proximities\n",
      "metadata": {
        "trusted": true
      },
      "outputs": [],
      "execution_count": null
    },
    {
      "cell_type": "markdown",
      "source": "Next, we need to explore and analyze the proximities of launch sites.\n",
      "metadata": {}
    },
    {
      "cell_type": "markdown",
      "source": "Let's first add a `MousePosition` on the map to get coordinate for a mouse over a point on the map. As such, while you are exploring the map, you can easily find the coordinates of any points of interests (such as railway)\n",
      "metadata": {}
    },
    {
      "cell_type": "code",
      "source": "# Add Mouse Position to get the coordinate (Lat, Long) for a mouse over on the map\nformatter = \"function(num) {return L.Util.formatNum(num, 5);};\"\nmouse_position = MousePosition(\n    position='topright',\n    separator=' Long: ',\n    empty_string='NaN',\n    lng_first=False,\n    num_digits=20,\n    prefix='Lat:',\n    lat_formatter=formatter,\n    lng_formatter=formatter,\n)\n\nsite_map.add_child(mouse_position)\nsite_map",
      "metadata": {
        "trusted": true
      },
      "outputs": [],
      "execution_count": null
    },
    {
      "cell_type": "markdown",
      "source": "Now zoom in to a launch site and explore its proximity to see if you can easily find any railway, highway, coastline, etc. Move your mouse to these points and mark down their coordinates (shown on the top-left) in order to the distance to the launch site.\n",
      "metadata": {}
    },
    {
      "cell_type": "markdown",
      "source": "Now zoom in to a launch site and explore its proximity to see if you can easily find any railway, highway, coastline, etc. Move your mouse to these points and mark down their coordinates (shown on the top-left) in order to the distance to the launch site.\n",
      "metadata": {}
    },
    {
      "cell_type": "code",
      "source": "from math import sin, cos, sqrt, atan2, radians\n\ndef calculate_distance(lat1, lon1, lat2, lon2):\n    # approximate radius of earth in km\n    R = 6373.0\n\n    lat1 = radians(lat1)\n    lon1 = radians(lon1)\n    lat2 = radians(lat2)\n    lon2 = radians(lon2)\n\n    dlon = lon2 - lon1\n    dlat = lat2 - lat1\n\n    a = sin(dlat / 2)**2 + cos(lat1) * cos(lat2) * sin(dlon / 2)**2\n    c = 2 * atan2(sqrt(a), sqrt(1 - a))\n\n    distance = R * c\n    return distance",
      "metadata": {
        "trusted": true
      },
      "outputs": [],
      "execution_count": null
    },
    {
      "cell_type": "markdown",
      "source": "*TODO:* Mark down a point on the closest coastline using MousePosition and calculate the distance between the coastline point and the launch site.\n",
      "metadata": {}
    },
    {
      "cell_type": "code",
      "source": "# find coordinate of the closet coastline\n# e.g.,: Lat: 28.56367  Lon: -80.57163\nlaunch_site_lat=28.56341\nlaunch_site_lon=-80.57673\ncoastline_lat=28.56252\ncoastline_lon=-80.56785\ndistance_coastline = calculate_distance(launch_site_lat, launch_site_lon, coastline_lat, coastline_lon)",
      "metadata": {
        "trusted": true
      },
      "outputs": [],
      "execution_count": null
    },
    {
      "cell_type": "code",
      "source": "# Create and add a folium.Marker on your selected closest coastline point on the map\n# Display the distance between coastline point and launch site using the icon property \n# for example\ncoordinate=[coastline_lat, coastline_lon]\ndistance_marker = folium.Marker(\n   coordinate,\n   icon=DivIcon(\n       icon_size=(20,20),\n       icon_anchor=(0,0),\n       html='<div style=\"font-size: 12; color:#d35400;\"><b>%s</b></div>' % \"{:10.2f} KM\".format(distance_coastline),\n       )\n   )\nsite_map.add_child(distance_marker)",
      "metadata": {
        "trusted": true
      },
      "outputs": [],
      "execution_count": null
    },
    {
      "cell_type": "markdown",
      "source": "*TODO:* Draw a `PolyLine` between a launch site to the selected coastline point\n",
      "metadata": {}
    },
    {
      "cell_type": "code",
      "source": "# Create a `folium.PolyLine` object using the coastline coordinates and launch site coordinate\ncoordinates=[\n    [launch_site_lat, launch_site_lon],\n    [coastline_lat, coastline_lon]\n]\nprint(coordinates)\nlines=folium.PolyLine(locations=coordinates, weight=1)\nsite_map.add_child(lines)",
      "metadata": {
        "trusted": true,
        "scrolled": true
      },
      "outputs": [],
      "execution_count": null
    },
    {
      "cell_type": "markdown",
      "source": "Your updated map with distance line should look like the following screenshot:\n",
      "metadata": {}
    },
    {
      "cell_type": "markdown",
      "source": "<center>\n    <img src=\"https://cf-courses-data.s3.us.cloud-object-storage.appdomain.cloud/IBM-DS0321EN-SkillsNetwork/labs/module_3/images/launch_site_marker_distance.png\">\n</center>\n",
      "metadata": {}
    },
    {
      "cell_type": "markdown",
      "source": "*TODO:* Similarly, you can draw a line betwee a launch site to its closest city, railway, highway, etc. You need to use `MousePosition` to find the their coordinates on the map first\n",
      "metadata": {}
    },
    {
      "cell_type": "markdown",
      "source": "A railway map symbol may look like this:\n",
      "metadata": {}
    },
    {
      "cell_type": "markdown",
      "source": "<center>\n    <img src=\"https://cf-courses-data.s3.us.cloud-object-storage.appdomain.cloud/IBM-DS0321EN-SkillsNetwork/labs/module_3/images/railway.png\">\n</center>\n",
      "metadata": {}
    },
    {
      "cell_type": "markdown",
      "source": "A highway map symbol may look like this:\n",
      "metadata": {}
    },
    {
      "cell_type": "markdown",
      "source": "<center>\n    <img src=\"https://cf-courses-data.s3.us.cloud-object-storage.appdomain.cloud/IBM-DS0321EN-SkillsNetwork/labs/module_3/images/highway.png\">\n</center>\n",
      "metadata": {}
    },
    {
      "cell_type": "markdown",
      "source": "A city map symbol may look like this:\n",
      "metadata": {}
    },
    {
      "cell_type": "markdown",
      "source": "<center>\n    <img src=\"https://cf-courses-data.s3.us.cloud-object-storage.appdomain.cloud/IBM-DS0321EN-SkillsNetwork/labs/module_3/images/city.png\">\n</center>\n",
      "metadata": {}
    },
    {
      "cell_type": "code",
      "source": "# Create a marker with distance to a closest city, railway, highway, etc.\n# Draw a line between the marker to the launch site\n",
      "metadata": {
        "trusted": true
      },
      "outputs": [],
      "execution_count": null
    },
    {
      "cell_type": "code",
      "source": "",
      "metadata": {
        "trusted": true
      },
      "outputs": [],
      "execution_count": null
    },
    {
      "cell_type": "code",
      "source": "",
      "metadata": {
        "trusted": true
      },
      "outputs": [],
      "execution_count": null
    },
    {
      "cell_type": "markdown",
      "source": "After you plot distance lines to the proximities, you can answer the following questions easily:\n\n*   Are launch sites in close proximity to railways?\n*   Are launch sites in close proximity to highways?\n*   Are launch sites in close proximity to coastline?\n*   Do launch sites keep certain distance away from cities?\n\nAlso please try to explain your findings.\n",
      "metadata": {}
    },
    {
      "cell_type": "markdown",
      "source": "# Next Steps:\n\nNow you have discovered many interesting insights related to the launch sites' location using folium, in a very interactive way. Next, you will need to build a dashboard using Ploty Dash on detailed launch records.\n",
      "metadata": {}
    },
    {
      "cell_type": "markdown",
      "source": "## Authors\n",
      "metadata": {}
    },
    {
      "cell_type": "markdown",
      "source": "[Pratiksha Verma](https://www.linkedin.com/in/pratiksha-verma-6487561b1/?utm_medium=Exinfluencer&utm_source=Exinfluencer&utm_content=000026UJ&utm_term=10006555&utm_id=NA-SkillsNetwork-Channel-SkillsNetworkCoursesIBMDS0321ENSkillsNetwork865-2022-01-01)\n",
      "metadata": {}
    },
    {
      "cell_type": "markdown",
      "source": "## Change Log\n",
      "metadata": {}
    },
    {
      "cell_type": "markdown",
      "source": "| Date (YYYY-MM-DD) | Version | Changed By      | Change Description      |\n| ----------------- | ------- | -------------   | ----------------------- |\n| 2022-11-09        | 1.0     | Pratiksha Verma | Converted initial version to Jupyterlite|\n",
      "metadata": {}
    },
    {
      "cell_type": "markdown",
      "source": "### <h3 align=\"center\"> IBM Corporation 2022. All rights reserved. <h3/>\n",
      "metadata": {}
    }
  ]
}